{
 "cells": [
  {
   "cell_type": "code",
   "execution_count": null,
   "metadata": {},
   "outputs": [],
   "source": [
    "import ROOT\n",
    "import uproot\n",
    "file_name='/home/prozorov/dev/star/jets_pp_2012/output/jets_embedding.root'\n",
    "tree_name = 'MatchedTree'  # Update this to your tree name\n",
    "my_file = uproot.open(file_name)\n",
    "\n",
    "selected_branches = ['mc_pt',    'mc_weight',\n",
    "                     'reco_pt',  'reco_trigger_match_JP2', 'reco_trigger_match_HT2','deltaR'\n",
    "                     ]\n",
    "my_tree = my_file[tree_name]\n",
    "all_jets = my_tree.arrays(selected_branches, library='pd', entry_stop=10000)\n",
    "\n",
    "all_jets=all_jets.copy()   \n",
    "all_jets['reco_trigger_match_JP2'] = all_jets['reco_trigger_match_JP2'].astype(int)\n",
    "all_jets['reco_trigger_match_HT2'] = all_jets['reco_trigger_match_HT2'].astype(int)"
   ]
  },
  {
   "cell_type": "code",
   "execution_count": null,
   "metadata": {},
   "outputs": [],
   "source": [
    "import numpy as np\n",
    "\n",
    "pt_reco_bins = [5.0,  6.0,  7.0,  8.0,  9.0,  10.0, 11.0, 12.0, 13.0, 14.0,\n",
    "     15.0, 16.0, 17.0, 18.0, 19.0, 20.0, 21.0, 22.0, 23.0, 24.0,\n",
    "     25.0, 26.0, 27.0, 28.0, 29.0, 30.0, 31.0, 32.0, 33.0, 34.0,\n",
    "     35.0, 36.0, 37.0, 38.0, 39.0, 40.0, 42.0, 44.0, 46.0, 48.0,\n",
    "     50.0, 52.0, 54.0, 56.0, 58.0, 60.0, 64.0, 70.0, 90.0]\n",
    "\n",
    "pt_mc_bins = [5.0,  6.9,  8.2,  9.7,  11.5,\n",
    "                                    13.6, 16.1, 19.0, 22.5, 26.6,\n",
    "                                    31.4, 37.2, 44.0, 52.0, 70.0]\n",
    "\n",
    "pt_reco_bins=np.array(pt_reco_bins)\n",
    "pt_mc_bins=np.array(pt_mc_bins)"
   ]
  },
  {
   "cell_type": "code",
   "execution_count": null,
   "metadata": {},
   "outputs": [],
   "source": [
    "\n",
    "\n",
    "test_fraction = 0.1  # Fraction of data to use for testing\n",
    "    \n",
    "print(\"Creating new response matrix...\")\n",
    "\n",
    "    \n",
    "    # Define histogram models for RDataFrame\n",
    "MeasuredModel = ROOT.RDF.TH1DModel(\"Measured\", \";p_{t}, GeV/c; dN/dp_{t}\", len(pt_reco_bins)-1, pt_reco_bins)\n",
    "\n",
    "TruthModel = ROOT.RDF.TH1DModel(\"Truth\", \";p_{t}, GeV/c;dN/dp_{t}\", len(pt_mc_bins)-1, pt_mc_bins)\n",
    "\n",
    "ResponseModel = ROOT.RDF.TH2DModel(\"ResponseMatrix\", \"Response Matrix; Measured; Truth\",\n",
    "                                        len(pt_reco_bins)-1, pt_reco_bins,\n",
    "                                        len(pt_mc_bins)-1, pt_mc_bins)\n",
    "\n",
    "DetectorResolutionModel = ROOT.RDF.TH2DModel(\"DetectorResolution\",\n",
    "                                           \"Detector Resolution; p_{T}^{mc}, GeV/c; p_{T}^{reco} - p_{T}^{mc}, GeV/c\",\n",
    "                                           1000, 0, 100, 1000, -100, 100)\n",
    "    # Open input file with RDataFrame\n",
    "input_file_path = \"/home/prozorov/dev/star/jets_pp_2012/output/jets_embedding.root\"\n",
    "\n",
    "# Create RDataFrame\n",
    "df = ROOT.RDataFrame(\"MatchedTree\", input_file_path, {\"mc_pt\", \"reco_pt\", \"mc_weight\"})\n",
    "n_entries = df.Count().GetValue()\n",
    "print(f\"Loaded {n_entries} entries from {input_file_path}\")\n",
    "\n",
    "# Filter out invalid entries\n",
    "df_filtered = df.Filter(\"mc_pt != -9 && reco_pt != -9\")\n",
    "# Add column for detector resolution (delta pT)\n",
    "df_filtered = df_filtered.Define(\"delta_pt\", \"reco_pt - mc_pt\")\n",
    "# Add a random column for train/test split\n",
    "df_filtered = df_filtered.Define(\"random\", \"gRandom->Uniform()\")\n",
    "# Split into training and testing dataframes\n",
    "df_train = df_filtered.Filter(f\"random > {test_fraction}\")\n",
    "df_test = df_filtered.Filter(f\"random <= {test_fraction}\")\n",
    "\n",
    "print(f\"Training entries: {df_train.Count().GetValue()}\")\n",
    "print(f\"Testing entries: {df_test.Count().GetValue()}\")\n",
    "\n",
    "# Create histograms for training set\n",
    "Measured = df_train.Histo1D(MeasuredModel, \"reco_pt\", \"mc_weight\")\n",
    "Truth = df_train.Histo1D(TruthModel, \"mc_pt\", \"mc_weight\")\n",
    "ResponseMatrix = df_train.Histo2D(ResponseModel,  \"reco_pt\", \"mc_pt\", \"mc_weight\")\n",
    "\n",
    "print(f\"Training histograms created\")\n",
    "\n",
    "# Create histograms for testing set\n",
    "Measured_test = df_test.Histo1D(MeasuredModel, \"reco_pt\", \"mc_weight\")\n",
    "Truth_test = df_test.Histo1D(TruthModel, \"mc_pt\", \"mc_weight\")\n",
    "# Create detector resolution histogram\n",
    "detector_resolution = df_filtered.Histo2D(DetectorResolutionModel, \"mc_pt\", \"delta_pt\", \"mc_weight\")"
   ]
  },
  {
   "cell_type": "code",
   "execution_count": null,
   "metadata": {},
   "outputs": [],
   "source": [
    "%jsroot on\n",
    "can=ROOT.TCanvas(\"c\", \"\", 1600, 600)\n",
    "can.Draw()\n",
    "can.Divide(3,1)\n",
    "can.cd(1)\n",
    "ROOT.gPad.SetLogy()\n",
    "Measured.Draw(\"\")\n",
    "can.cd(2)\n",
    "ROOT.gPad.SetLogy()\n",
    "Truth.Draw(\"\")\n",
    "can.cd(3)\n",
    "ROOT.gPad.SetLogz()\n",
    "ResponseMatrix.Draw(\"COLZ\")"
   ]
  },
  {
   "cell_type": "code",
   "execution_count": null,
   "metadata": {},
   "outputs": [],
   "source": [
    "response.Setup(Measured.GetValue(), Truth.GetValue(), ResponseMatrix.GetValue())"
   ]
  },
  {
   "cell_type": "code",
   "execution_count": null,
   "metadata": {},
   "outputs": [],
   "source": [
    "# # Create RooUnfoldResponse\n",
    "\n",
    "response.SetName(\"my_response\")\n",
    "# Write histograms to file\n",
    "\n",
    "# save histograms to file\n",
    "response_file=ROOT.TFile(\"response.root\", \"RECREATE\")\n",
    "Measured.Write()\n",
    "Truth.Write()\n",
    "ResponseMatrix.Write()\n",
    "detector_resolution.Write()\n",
    "Measured_test.Write()\n",
    "Truth_test.Write()\n",
    "response_file.Save()\n",
    "response_file.Close()\n",
    "\n",
    "print(\"\\nResponse matrix created and saved to response.root\")"
   ]
  },
  {
   "cell_type": "code",
   "execution_count": null,
   "metadata": {},
   "outputs": [],
   "source": [
    "responseFile=ROOT.TFile(\"response.root\", \"READ\")\n",
    "\n",
    "Measured = responseFile.Get(\"Measured\")\n",
    "Truth = responseFile.Get(\"Truth\")\n",
    "ResponseMatrix = responseFile.Get(\"ResponseMatrix\")\n",
    "\n",
    "MeasuredTest= responseFile.Get(\"Measured_test\")\n",
    "TruthTest = responseFile.Get(\"Truth_test\")\n",
    "responseFile.ls()\n",
    "can=ROOT.TCanvas(\"c\", \"\", 1600, 600)\n",
    "can.Draw()\n",
    "can.Divide(3,1)\n",
    "can.cd(1)\n",
    "ROOT.gPad.SetLogy()\n",
    "Measured.Draw(\"\")\n",
    "can.cd(2)\n",
    "ROOT.gPad.SetLogy()\n",
    "Truth.Draw(\"\")\n",
    "can.cd(3)\n",
    "ROOT.gPad.SetLogz()\n",
    "\n"
   ]
  },
  {
   "cell_type": "markdown",
   "metadata": {},
   "source": [
    "Check unfolding\n",
    "========================"
   ]
  },
  {
   "cell_type": "code",
   "execution_count": null,
   "metadata": {},
   "outputs": [],
   "source": [
    "def divide_by_binwidth(hist):\n",
    "    \"\"\"\n",
    "    Divide histogram by bin width.\n",
    "    \"\"\"\n",
    "    for bin in range(1, hist.GetNbinsX() + 1):\n",
    "        bin_width = hist.GetBinWidth(bin)\n",
    "        if bin_width > 0:\n",
    "            hist.SetBinContent(bin, hist.GetBinContent(bin) / bin_width)\n",
    "            hist.SetBinError(bin, hist.GetBinError(bin) / bin_width)\n",
    "    return hist\n",
    "\n",
    "\n",
    "responseFile=ROOT.TFile(\"response.root\", \"READ\")\n",
    "rooUnfoldResponse = responseFile.Get(\"my_response\")\n",
    "hist=response_file.Get(\"MeasuredTest\")\n",
    "hist_truth=response_file.Get(\"TruthTest\")\n",
    "\n",
    "unfolding=ROOT.RooUnfoldBayes(rooUnfoldResponse, hist, 5)\n",
    "unfolded = unfolding.Hunfold()\n",
    "unfolded.SetLineColor(ROOT.kRed)\n",
    "# divide by bin width\n",
    "unfolded=divide_by_binwidth(unfolded)\n",
    "hist=divide_by_binwidth(hist)\n",
    "can=ROOT.TCanvas('can', '', 800, 600)\n",
    "can.Draw()\n",
    "can.SetLogy()\n",
    "hist.Draw('hist')\n",
    "unfolded.Draw('hist same')\n",
    "hist_truth.SetLineColor(ROOT.kGreen)\n",
    "hist_truth.Draw('hist same')\n",
    "\n"
   ]
  },
  {
   "cell_type": "markdown",
   "metadata": {},
   "source": [
    "The parameters are as follows:\n",
    "\n",
    "- `name` and `title` - as with any other root object\n",
    "- `truth hist` and `truth observable` - This is because RooFit is used to define the range the unfolding is valid for\n",
    "- `reco hist` and `reco observable` - as above\n",
    "- `response hist` - we are unfolding after all\n",
    "- `background hist` - optional\n",
    "- `includeUnderflowOverflow`, `errorThreshold` as described\n"
   ]
  },
  {
   "cell_type": "code",
   "execution_count": null,
   "metadata": {},
   "outputs": [],
   "source": [
    "\n",
    "# spec = ROOT.RooUnfoldSpec(\"unfold\", \"unfold\",\n",
    "#                           truthHist,\"obs_truth\",\n",
    "#                           recoHist,\"obs_reco\",\n",
    "#                           responseHist,\n",
    "#                           recoBkgHist,\n",
    "#                           dataHist,\n",
    "#                           True,-1)\n",
    "\n"
   ]
  },
  {
   "cell_type": "code",
   "execution_count": null,
   "metadata": {},
   "outputs": [],
   "source": [
    "# unfolding = spec.makeFunc(ROOT.RooUnfolding.kBayes, 10)\n",
    "# Hunfolded = unfolding.unfolding().Vunfold()\n",
    "# Hunfolded.Print() # This should be a histogram."
   ]
  },
  {
   "cell_type": "code",
   "execution_count": null,
   "metadata": {},
   "outputs": [],
   "source": [
    "# def make_hist(vec, template, title=\"\", errors=None):\n",
    "#     tmp = template.Clone(title)\n",
    "#     tmp.SetTitle(title)\n",
    "#     for b in range(tmp.GetNbinsX()+1):\n",
    "#         if np.isnan(vec[b]): vec[b] =0\n",
    "#         tmp.SetBinContent(b,vec[b])\n",
    "#         if errors: tmp.SetBinError(b,errors[b])\n",
    "#         else: tmp.SetBinError(b,0)\n",
    "#     tmp.SetStats(0)\n",
    "#     tmp.SetLineColor(1)\n",
    "#     return tmp"
   ]
  },
  {
   "cell_type": "code",
   "execution_count": null,
   "metadata": {},
   "outputs": [],
   "source": [
    "# response = spec.makeFunc(ROOT.RooUnfolding.kInvert).unfolding().response()\n",
    "\n",
    "# pur_vec = response.Vpurity() # a vector of the purity\n",
    "# eff_vec = response.Vefficiency() # a vector of the efficiency\n",
    "\n",
    "# c1 = ROOT.TCanvas()\n",
    "# c1.Divide(2,1,.0001,0.0001)\n",
    "# c1.cd(1)\n",
    "# purity = make_hist(pur_vec, recoHist, \"purity\")\n",
    "# purity.Draw()\n",
    "# c1.cd(2)\n",
    "# efficiency = make_hist(eff_vec, truthHist, \"efficiency\")\n",
    "# efficiency.Draw()\n",
    "# c1.Draw()\n",
    "\n"
   ]
  }
 ],
 "metadata": {
  "kernelspec": {
   "display_name": "physics",
   "language": "python",
   "name": "python3"
  },
  "language_info": {
   "codemirror_mode": {
    "name": "ipython",
    "version": 3
   },
   "file_extension": ".py",
   "mimetype": "text/x-python",
   "name": "python",
   "nbconvert_exporter": "python",
   "pygments_lexer": "ipython3",
   "version": "3.11.11"
  }
 },
 "nbformat": 4,
 "nbformat_minor": 2
}
