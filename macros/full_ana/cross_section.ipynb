{
 "cells": [
  {
   "cell_type": "code",
   "execution_count": 12,
   "metadata": {},
   "outputs": [],
   "source": [
    "import ROOT\n",
    "%jsroot on\n",
    "# calculate events ratio from vertex histograms\n",
    "path='/home/prozorov/dev/star/jets_pp_2012/output/'\n",
    "workdir='/home/prozorov/dev/star/jets_pp_2012/macros/full_ana/'\n",
    "\n",
    "triggers = ['JP2', 'HT2']\n",
    "jetR = [0.2, 0.3, 0.4, 0.5, 0.6]\n",
    "jetR='0.5'\n",
    "\n",
    "\n",
    "bad_runs_JP2=[  13048019, 13048092, 13048093,\n",
    "                13049006, 13049007, 13051074,\n",
    "                13051099, 13052061, 13061035,\n",
    "                13064067, 13068060, 13069023,\n",
    "                13070061, 13063012]"
   ]
  },
  {
   "cell_type": "code",
   "execution_count": 13,
   "metadata": {},
   "outputs": [
    {
     "name": "stdout",
     "output_type": "stream",
     "text": [
      "6.36.04\n"
     ]
    }
   ],
   "source": [
    "# print ROOT version\n",
    "print(ROOT.gROOT.GetVersion())"
   ]
  },
  {
   "cell_type": "markdown",
   "metadata": {},
   "source": [
    "```bash\n",
    "export PATH=/home/prozorov/install/RooUnfold:${PATH}\n",
    "export PYTHONPATH=/home/prozorov/install/RooUnfold:${PYTHONPATH}\n",
    "export LD_LIBRARY_PATH=/home/prozorov/install/RooUnfold:${LD_LIBRARY_PATH}\n",
    "```\n"
   ]
  },
  {
   "cell_type": "code",
   "execution_count": 14,
   "metadata": {},
   "outputs": [
    {
     "data": {
      "text/plain": [
       "1"
      ]
     },
     "execution_count": 14,
     "metadata": {},
     "output_type": "execute_result"
    }
   ],
   "source": [
    "ROOT.gSystem.Load(\"/home/prozorov/install/RooUnfold/lib/libRooUnfold\")  # load RooUnfold library"
   ]
  },
  {
   "cell_type": "code",
   "execution_count": 15,
   "metadata": {},
   "outputs": [],
   "source": [
    "from ROOT import RooUnfoldResponse"
   ]
  },
  {
   "cell_type": "markdown",
   "metadata": {},
   "source": [
    "### plot Vertex Z distributions"
   ]
  },
  {
   "cell_type": "code",
   "execution_count": 16,
   "metadata": {},
   "outputs": [
    {
     "name": "stdout",
     "output_type": "stream",
     "text": [
      "ERROR in TPDF::Open: Cannot open file:plots/vertex_ratio.pdf\n"
     ]
    },
    {
     "name": "stderr",
     "output_type": "stream",
     "text": [
      "Warning in <TCanvas::Constructor>: Deleting canvas with same name: canvas\n"
     ]
    },
    {
     "data": {
      "text/html": [
       "\n",
       "\n",
       "<div id=\"root_plot_1759358933534\" style=\"width: 1200px; height: 600px; position: relative\">\n",
       "</div>\n",
       "\n",
       "<script>\n",
       "\n",
       "function display_root_plot_1759358933534(Core) {\n",
       "   let obj = Core.parse({\"_typename\":\"TCanvasWebSnapshot\",\"fUniqueID\":0,\"fBits\":0,\"fObjectID\":\"\",\"fOption\":\"\",\"fKind\":3,\"fSnapshot\":{\"_typename\":\"TCanvas\",\"fUniqueID\":0,\"fBits\":3342344,\"fLineColor\":1,\"fLineStyle\":1,\"fLineWidth\":1,\"fFillColor\":0,\"fFillStyle\":1001,\"fLeftMargin\":0.1,\"fRightMargin\":0.1,\"fBottomMargin\":0.15,\"fTopMargin\":0.1,\"fXfile\":2,\"fYfile\":2,\"fAfile\":1,\"fXstat\":0.99,\"fYstat\":0.99,\"fAstat\":2,\"fFrameFillColor\":0,\"fFrameLineColor\":1,\"fFrameFillStyle\":1001,\"fFrameLineStyle\":1,\"fFrameLineWidth\":1,\"fFrameBorderSize\":1,\"fFrameBorderMode\":0,\"fX1\":0,\"fY1\":0,\"fX2\":1,\"fY2\":1,\"fXtoAbsPixelk\":0,\"fXtoPixelk\":0,\"fXtoPixel\":1196,\"fYtoAbsPixelk\":572,\"fYtoPixelk\":572,\"fYtoPixel\":-572,\"fUtoAbsPixelk\":0,\"fUtoPixelk\":0,\"fUtoPixel\":1196,\"fVtoAbsPixelk\":572,\"fVtoPixelk\":572,\"fVtoPixel\":-572,\"fAbsPixeltoXk\":0,\"fPixeltoXk\":0,\"fPixeltoX\":8.36120401337793e-4,\"fAbsPixeltoYk\":1,\"fPixeltoYk\":0,\"fPixeltoY\":-0.00174825174825175,\"fXlowNDC\":0,\"fYlowNDC\":0,\"fXUpNDC\":1,\"fYUpNDC\":1,\"fWNDC\":1,\"fHNDC\":1,\"fAbsXlowNDC\":0,\"fAbsYlowNDC\":0,\"fAbsWNDC\":1,\"fAbsHNDC\":1,\"fUxmin\":0,\"fUymin\":0,\"fUxmax\":1,\"fUymax\":1,\"fTheta\":30,\"fPhi\":30,\"fAspectRatio\":0,\"fNumber\":0,\"fTickx\":0,\"fTicky\":0,\"fLogx\":0,\"fLogy\":0,\"fLogz\":0,\"fPadPaint\":0,\"fCrosshair\":0,\"fCrosshairPos\":0,\"fBorderSize\":2,\"fBorderMode\":0,\"fModified\":false,\"fGridx\":false,\"fGridy\":false,\"fAbsCoord\":false,\"fEditable\":true,\"fFixedAspectRatio\":false,\"fPrimitives\":{\"_typename\":\"TList\",\"name\":\"TList\",\"arr\":[],\"opt\":[]},\"fExecs\":null,\"fName\":\"canvas\",\"fTitle\":\"\",\"fNumPaletteColor\":0,\"fNextPaletteColor\":0,\"fDISPLAY\":\"$DISPLAY\",\"fDoubleBuffer\":0,\"fRetained\":true,\"fXsizeUser\":0,\"fYsizeUser\":0,\"fXsizeReal\":20,\"fYsizeReal\":10,\"fWindowTopX\":0,\"fWindowTopY\":0,\"fWindowWidth\":0,\"fWindowHeight\":0,\"fCw\":1196,\"fCh\":572,\"fCatt\":{\"_typename\":\"TAttCanvas\",\"fXBetween\":2,\"fYBetween\":2,\"fTitleFromTop\":1.2,\"fXdate\":0.2,\"fYdate\":0.3,\"fAdate\":1},\"kMoveOpaque\":true,\"kResizeOpaque\":true,\"fHighLightColor\":2,\"fBatch\":true,\"kShowEventStatus\":false,\"kAutoExec\":true,\"kMenuBar\":true},\"fActive\":false,\"fReadOnly\":true,\"fWithoutPrimitives\":false,\"fHasExecs\":false,\"fPrimitives\":[{\"_typename\":\"TWebSnapshot\",\"fUniqueID\":0,\"fBits\":0,\"fObjectID\":\"\",\"fOption\":\"\",\"fKind\":4,\"fSnapshot\":{\"_typename\":\"TWebPainting\",\"fUniqueID\":0,\"fBits\":0,\"fClassName\":\"\",\"fObjectName\":\"\",\"fOper\":\"0:255,255,255;1:0,0,0;2:255,0,0;3:0,255,0;4:0,0,255;5:255,255,0;6:255,0,255;7:0,255,255;8:89,211,84;9:89,84,216;10:254,254,254;11:192,182,172;12:76,76,76;13:102,102,102;14:127,127,127;15:153,153,153;16:178,178,178;17:204,204,204;18:229,229,229;19:242,242,242;20:204,198,170;21:204,198,170;22:193,191,168;23:186,181,163;24:178,165,150;25:183,163,155;26:173,153,140;27:155,142,130;28:135,102,86;29:175,206,198;30:132,193,163;31:137,168,160;32:130,158,140;33:173,188,198;34:122,142,153;35:117,137,145;36:104,130,150;37:109,122,132;38:124,153,209;39:127,127,155;40:170,165,191;41:211,206,135;42:221,186,135;43:188,158,130;44:198,153,124;45:191,130,119;46:206,94,96;47:170,142,147;48:165,119,122;49:147,104,112;50:211,89,84;51:146,0,255;52:122,0,255;53:98,0,255;54:74,0,255;55:51,0,255;56:27,0,255;57:3,0,255;58:0,20,255;59:0,44,255;60:0,68,255;61:0,91,255;62:0,115,255;63:0,139,255;64:0,163,255;65:0,187,255;66:0,210,255;67:0,234,255;68:0,255,251;69:0,255,227;70:0,255,204;71:0,255,180;72:0,255,156;73:0,255,132;74:0,255,108;75:0,255,85;76:0,255,61;77:0,255,37;78:0,255,13;79:10,255,0;80:34,255,0;81:57,255,0;82:81,255,0;83:105,255,0;84:129,255,0;85:153,255,0;86:176,255,0;87:200,255,0;88:224,255,0;89:248,255,0;90:255,238,0;91:255,214,0;92:255,190,0;93:255,166,0;94:255,142,0;95:255,119,0;96:255,95,0;97:255,71,0;98:255,47,0;99:255,23,0;100:111,45,168;101:165,42,42;102:178,190,181;103:87,144,252;104:248,156,32;105:228,37,54;106:150,74,139;107:156,156,161;108:122,33,221;109:24,69,251;110:255,94,2;111:201,31,22;112:200,73,169;113:173,173,125;114:134,200,221;115:87,141,255;116:101,99,100;117:63,144,218;118:255,169,14;119:189,31,1;120:148,164,162;121:131,45,182;122:169,107,89;123:231,99,0;124:185,172,112;125:113,117,129;126:146,218,221;127:178,178,178;201:91,91,91;202:122,122,122;203:183,183,183;204:214,214,214;205:137,15,15;206:183,20,20;207:234,71,71;208:239,117,117;209:15,137,15;210:20,183,20;211:71,234,71;212:117,239,117;213:15,15,137;214:20,20,183;215:71,71,234;216:117,117,239;217:137,137,15;218:183,183,20;219:234,234,71;220:239,239,117;221:137,15,137;222:183,20,183;223:234,71,234;224:239,117,239;225:15,137,137;226:20,183,183;227:71,234,234;228:117,239,239;390:255,255,204;391:255,255,153;392:204,204,153;393:255,255,102;394:204,204,102;395:153,153,102;396:255,255,51;397:204,204,51;398:153,153,51;399:102,102,51;400:255,255,0;401:204,204,0;402:153,153,0;403:102,102,0;404:51,51,0;406:204,255,204;407:153,255,153;408:153,204,153;409:102,255,102;410:102,204,102;411:102,153,102;412:51,255,51;413:51,204,51;414:51,153,51;415:51,102,51;416:0,255,0;417:0,204,0;418:0,153,0;419:0,102,0;420:0,51,0;422:204,255,255;423:153,255,255;424:153,204,204;425:102,255,255;426:102,204,204;427:102,153,153;428:51,255,255;429:51,204,204;430:51,153,153;431:51,102,102;432:0,255,255;433:0,204,204;434:0,153,153;435:0,102,102;436:0,51,51;590:204,204,255;591:153,153,255;592:153,153,204;593:102,102,255;594:102,102,204;595:102,102,153;596:51,51,255;597:51,51,204;598:51,51,153;599:51,51,102;600:0,0,255;601:0,0,204;602:0,0,153;603:0,0,102;604:0,0,51;606:255,204,255;607:255,153,255;608:204,153,204;609:255,102,255;610:204,102,204;611:153,102,153;612:255,51,255;613:204,51,204;614:153,51,153;615:102,51,102;616:255,0,255;617:204,0,204;618:153,0,153;619:102,0,102;620:51,0,51;622:255,204,204;623:255,153,153;624:204,153,153;625:255,102,102;626:204,102,102;627:153,102,102;628:255,51,51;629:204,51,51;630:153,51,51;631:102,51,51;632:255,0,0;633:204,0,0;634:153,0,0;635:102,0,0;636:51,0,0;791:255,204,153;792:204,153,102;793:153,102,51;794:153,102,0;795:204,153,51;796:255,204,102;797:255,153,0;798:255,204,51;799:204,153,0;800:255,204,0;801:255,153,51;802:204,102,0;803:102,51,0;804:153,51,0;805:204,102,51;806:255,153,102;807:255,102,0;808:255,102,51;809:204,51,0;810:255,51,0;811:153,255,51;812:102,204,0;813:51,102,0;814:51,153,0;815:102,204,51;816:153,255,102;817:102,255,0;818:102,255,51;819:51,204,0;820:51,255,0;821:204,255,153;822:153,204,102;823:102,153,51;824:102,153,0;825:153,204,51;826:204,255,102;827:153,255,0;828:204,255,51;829:153,204,0;830:204,255,0;831:153,255,204;832:102,204,153;833:51,153,102;834:0,153,102;835:51,204,153;836:102,255,204;837:0,255,102;838:51,255,204;839:0,204,153;840:0,255,204;841:51,255,153;842:0,204,102;843:0,102,51;844:0,153,51;845:51,204,102;846:102,255,153;847:0,255,153;848:51,255,102;849:0,204,51;850:0,255,51;851:153,204,255;852:102,153,204;853:51,102,153;854:0,51,153;855:51,102,204;856:102,153,255;857:0,102,255;858:51,102,255;859:0,51,204;860:0,51,255;861:51,153,255;862:0,102,204;863:0,51,102;864:0,102,153;865:51,153,204;866:102,204,255;867:0,153,255;868:51,204,255;869:0,153,204;870:0,204,255;871:204,153,255;872:153,102,204;873:102,51,153;874:102,0,153;875:153,51,204;876:204,102,255;877:153,0,255;878:204,51,255;879:153,0,204;880:204,0,255;881:153,51,255;882:102,0,204;883:51,0,102;884:51,0,153;885:102,51,204;886:153,102,255;887:102,0,255;888:102,51,255;889:51,0,204;890:51,0,255;891:255,51,153;892:204,0,102;893:102,0,51;894:153,0,51;895:204,51,102;896:255,102,153;897:255,0,102;898:255,51,102;899:204,0,51;900:255,0,51;901:255,153,204;902:204,102,153;903:153,51,102;904:153,0,102;905:204,51,153;906:255,102,204;907:255,0,153;908:204,0,153;909:255,51,204;910:255,0,153;920:204,204,204;921:153,153,153;922:102,102,102;923:51,51,51;924:53,42,134;925:51,44,137;926:50,45,140;927:49,47,143;928:48,48,146;929:46,50,148;930:45,51,151;931:44,53,154;932:43,55,157;933:42,56,160;934:40,58,162;935:39,59,165;936:38,61,168;937:37,63,171;938:35,64,174;939:34,66,176;940:33,67,179;941:32,69,182;942:31,71,185;943:29,72,187;944:28,74,190;945:27,75,193;946:26,77,196;947:24,79,199;948:23,80,201;949:22,82,204;950:21,83,207;951:19,85,210;952:18,86,213;953:17,88,215;954:16,90,218;955:15,91,221;956:15,92,221;957:15,94,220;958:15,95,220;959:15,96,220;960:15,97,220;961:15,98,220;962:16,99,219;963:16,100,219;964:16,102,219;965:16,103,219;966:16,104,218;967:16,105,218;968:17,106,218;969:17,107,218;970:17,109,217;971:17,110,217;972:17,111,217;973:17,112,217;974:17,113,216;975:18,114,216;976:18,115,216;977:18,117,216;978:18,118,215;979:18,119,215;980:18,120,215;981:18,121,215;982:19,122,215;983:19,123,214;984:19,125,214;985:19,126,214;986:19,127,214;987:19,128,213;988:19,129,213;989:19,130,213;990:18,131,212;991:18,132,212;992:17,134,211;993:17,135,211;994:16,136,211;995:16,137,210;996:15,138,210;997:15,139,210;998:15,140,209;999:14,141,209;1000:14,142,208;1001:13,143,208;1002:13,145,208;1003:12,146,207;1004:12,147,207;1005:12,148,207;1006:11,149,206;1007:11,150,206;1008:10,151,205;1009:10,152,205;1010:9,153,205;1011:9,154,204;1012:8,155,204;1013:8,157,204;1014:8,158,203;1015:7,159,203;1016:7,160,202;1017:6,161,202;1018:6,162,202;1019:5,163,201;1020:7,164,200;1021:8,164,199;1022:9,165,198;1023:10,166,197;1024:12,166,195;1025:13,167,194;1026:14,167,193;1027:15,168,192;1028:17,169,191;1029:18,169,189;1030:19,170,188;1031:20,170,187;1032:22,171,186;1033:23,172,185;1034:24,172,184;1035:25,173,182;1036:27,173,181;1037:28,174,180;1038:29,175,179;1039:30,175,178;1040:32,176,176;1041:33,176,175;1042:34,177,174;1043:35,178,173;1044:37,178,172;1045:38,179,170;1046:39,180,169;1047:40,180,168;1048:42,181,167;1049:43,181,166;1050:44,182,165;1051:45,183,163;1052:48,183,162;1053:51,183,161;1054:54,183,159;1055:57,184,158;1056:59,184,156;1057:62,184,155;1058:65,184,154;1059:68,185,152;1060:71,185,151;1061:73,185,149;1062:76,185,148;1063:79,186,146;1064:82,186,145;1065:84,186,144;1066:87,186,142;1067:90,187,141;1068:93,187,139;1069:96,187,138;1070:98,187,137;1071:101,188,135;1072:104,188,134;1073:107,188,132;1074:110,188,131;1075:112,189,130;1076:115,189,128;1077:118,189,127;1078:121,189,125;1079:124,190,124;1080:126,190,123;1081:129,190,121;1082:132,190,120;1083:135,191,118;1084:137,190,117;1085:139,190,117;1086:142,190,116;1087:144,190,115;1088:146,190,114;1089:148,190,113;1090:151,190,112;1091:153,190,111;1092:155,189,110;1093:158,189,109;1094:160,189,108;1095:162,189,107;1096:165,189,106;1097:167,189,105;1098:169,189,104;1099:171,188,104;1100:174,188,103;1101:176,188,102;1102:178,188,101;1103:181,188,100;1104:183,188,99;1105:185,188,98;1106:188,188,97;1107:190,187,96;1108:192,187,95;1109:194,187,94;1110:197,187,93;1111:199,187,92;1112:201,187,92;1113:204,187,91;1114:206,186,90;1115:208,186,89;1116:210,187,88;1117:211,187,86;1118:212,188,85;1119:214,188,84;1120:215,188,83;1121:217,189,81;1122:218,189,80;1123:220,190,79;1124:221,190,78;1125:222,191,77;1126:224,191,75;1127:225,191,74;1128:227,192,73;1129:228,192,72;1130:229,193,70;1131:231,193,69;1132:232,194,68;1133:234,194,67;1134:235,194,66;1135:236,195,64;1136:238,195,63;1137:239,196,62;1138:241,196,61;1139:242,197,59;1140:244,197,58;1141:245,197,57;1142:246,198,56;1143:248,198,55;1144:249,199,53;1145:251,199,52;1146:252,200,51;1147:253,200,50;1148:253,202,49;1149:253,203,47;1150:253,205,46;1151:253,206,45;1152:253,208,44;1153:252,209,43;1154:252,211,42;1155:252,213,41;1156:252,214,39;1157:252,216,38;1158:252,217,37;1159:252,219,36;1160:251,220,35;1161:251,222,34;1162:251,224,33;1163:251,225,31;1164:251,227,30;1165:251,228,29;1166:250,230,28;1167:250,231,27;1168:250,233,26;1169:250,235,25;1170:250,236,23;1171:250,238,22;1172:250,239,21;1173:249,241,20;1174:249,242,19;1175:249,244,18;1176:249,246,17;1177:249,247,16;1178:249,249,14;2000:255,89,74;2001:25,170,25;2002:66,98,255;2003:153,0,153;2004:255,166,33;2005:0,170,255;2006:204,153,255;2007:107,142,35;2008:100,149,237;2009:255,69,0;2010:0,128,128;2011:176,196,222;2012:255,215,0;3000:251,228,216;3001:223,182,178;3002:133,79,108;3003:82,43,91;3004:43,18,76;3005:25,0,25;3006:49,61,90\",\"fBuf\":{\"$arr\":\"Float32\",\"len\":255,\"v\":[924,925,926,927,928,929,930,931,932,933,934,935,936,937,938,939,940,941,942,943,944,945,946,947,948,949,950,951,952,953,954,955,956,957,958,959,960,961,962,963,964,965,966,967,968,969,970,971,972,973,974,975,976,977,978,979,980,981,982,983,984,985,986,987,988,989,990,991,992,993,994,995,996,997,998,999,1000,1001,1002,1003,1004,1005,1006,1007,1008,1009,1010,1011,1012,1013,1014,1015,1016,1017,1018,1019,1020,1021,1022,1023,1024,1025,1026,1027,1028,1029,1030,1031,1032,1033,1034,1035,1036,1037,1038,1039,1040,1041,1042,1043,1044,1045,1046,1047,1048,1049,1050,1051,1052,1053,1054,1055,1056,1057,1058,1059,1060,1061,1062,1063,1064,1065,1066,1067,1068,1069,1070,1071,1072,1073,1074,1075,1076,1077,1078,1079,1080,1081,1082,1083,1084,1085,1086,1087,1088,1089,1090,1091,1092,1093,1094,1095,1096,1097,1098,1099,1100,1101,1102,1103,1104,1105,1106,1107,1108,1109,1110,1111,1112,1113,1114,1115,1116,1117,1118,1119,1120,1121,1122,1123,1124,1125,1126,1127,1128,1129,1130,1131,1132,1133,1134,1135,1136,1137,1138,1139,1140,1141,1142,1143,1144,1145,1146,1147,1148,1149,1150,1151,1152,1153,1154,1155,1156,1157,1158,1159,1160,1161,1162,1163,1164,1165,1166,1167,1168,1169,1170,1171,1172,1173,1174,1175,1176,1177,1178]}}},{\"_typename\":\"TWebSnapshot\",\"fUniqueID\":0,\"fBits\":0,\"fObjectID\":\"\",\"fOption\":\"\",\"fKind\":5,\"fSnapshot\":{\"_typename\":\"TStyle\",\"fUniqueID\":0,\"fBits\":0,\"fName\":\"myStyle\",\"fTitle\":\"myStyle\",\"fLineColor\":1,\"fLineStyle\":1,\"fLineWidth\":1,\"fFillColor\":19,\"fFillStyle\":1001,\"fMarkerColor\":1,\"fMarkerStyle\":22,\"fMarkerSize\":1,\"fTextAngle\":0,\"fTextSize\":0.05,\"fTextAlign\":11,\"fTextColor\":1,\"fTextFont\":62,\"fXaxis\":{\"_typename\":\"TAttAxis\",\"fNdivisions\":505,\"fAxisColor\":1,\"fLabelColor\":1,\"fLabelFont\":42,\"fLabelOffset\":0.015,\"fLabelSize\":0.05,\"fTickLength\":0.03,\"fTitleOffset\":1.1,\"fTitleSize\":0.055,\"fTitleColor\":1,\"fTitleFont\":42},\"fYaxis\":{\"_typename\":\"TAttAxis\",\"fNdivisions\":510,\"fAxisColor\":1,\"fLabelColor\":1,\"fLabelFont\":42,\"fLabelOffset\":0.015,\"fLabelSize\":0.05,\"fTickLength\":0.02,\"fTitleOffset\":0,\"fTitleSize\":0.055,\"fTitleColor\":1,\"fTitleFont\":42},\"fZaxis\":{\"_typename\":\"TAttAxis\",\"fNdivisions\":510,\"fAxisColor\":1,\"fLabelColor\":1,\"fLabelFont\":42,\"fLabelOffset\":0.015,\"fLabelSize\":0.05,\"fTickLength\":0.03,\"fTitleOffset\":1.1,\"fTitleSize\":0.055,\"fTitleColor\":1,\"fTitleFont\":42},\"fBarWidth\":1,\"fBarOffset\":0,\"fColorModelPS\":0,\"fDrawBorder\":0,\"fOptLogx\":0,\"fOptLogy\":0,\"fOptLogz\":0,\"fOptDate\":0,\"fOptStat\":100,\"fOptTitle\":1,\"fOptFile\":0,\"fOptFit\":112,\"fShowEventStatus\":0,\"fShowEditor\":0,\"fShowToolBar\":0,\"fNumberContours\":200,\"fAttDate\":{\"_typename\":\"TAttText\",\"fTextAngle\":0,\"fTextSize\":0.025,\"fTextAlign\":11,\"fTextColor\":1,\"fTextFont\":62},\"fDateX\":0.01,\"fDateY\":0.01,\"fEndErrorSize\":0,\"fErrorX\":0.5,\"fFuncColor\":1,\"fFuncStyle\":1,\"fFuncWidth\":3,\"fGridColor\":0,\"fGridStyle\":3,\"fGridWidth\":1,\"fLegendBorderSize\":0,\"fLegendFillColor\":0,\"fLegendFillStyle\":1001,\"fLegendFont\":42,\"fLegendTextSize\":0,\"fHatchesLineWidth\":1,\"fHatchesSpacing\":1,\"fFrameFillColor\":0,\"fFrameLineColor\":1,\"fFrameFillStyle\":1001,\"fFrameLineStyle\":1,\"fFrameLineWidth\":1,\"fFrameBorderSize\":1,\"fFrameBorderMode\":0,\"fHistFillColor\":0,\"fHistLineColor\":1,\"fHistFillStyle\":1001,\"fHistLineStyle\":1,\"fHistLineWidth\":1,\"fHistMinimumZero\":true,\"fHistTopMargin\":0.05,\"fCanvasPreferGL\":false,\"fCanvasColor\":0,\"fCanvasBorderSize\":2,\"fCanvasBorderMode\":0,\"fCanvasDefH\":600,\"fCanvasDefW\":800,\"fCanvasDefX\":10,\"fCanvasDefY\":10,\"fPadColor\":0,\"fPadBorderSize\":2,\"fPadBorderMode\":0,\"fPadBottomMargin\":0.15,\"fPadTopMargin\":0.1,\"fPadLeftMargin\":0.1,\"fPadRightMargin\":0.1,\"fPadGridX\":false,\"fPadGridY\":false,\"fPadTickX\":0,\"fPadTickY\":0,\"fPaperSizeX\":20,\"fPaperSizeY\":26,\"fScreenFactor\":1,\"fStatColor\":0,\"fStatTextColor\":1,\"fStatBorderSize\":1,\"fStatFont\":42,\"fStatFontSize\":0,\"fStatStyle\":1001,\"fStatFormat\":\"6.4g\",\"fStatX\":0.98,\"fStatY\":0.935,\"fStatW\":0.2,\"fStatH\":0.16,\"fStripDecimals\":false,\"fTitleAlign\":23,\"fTitleColor\":0,\"fTitleTextColor\":1,\"fTitleBorderSize\":0,\"fTitleFont\":42,\"fTitleFontSize\":0.05,\"fTitleStyle\":0,\"fTitleX\":0.5,\"fTitleY\":0.995,\"fTitleW\":0,\"fTitleH\":0,\"fLegoInnerR\":0.5,\"fLineStyles\":[\"\",\"  \",\" 12 12\",\" 4 8\",\" 12 16 4 16\",\" 20 12 4 12\",\" 20 12 4 12 4 12 4 12\",\" 20 20\",\" 20 12 4 12 4 12\",\" 80 20\",\" 80 40 4 40\",\"  \",\"  \",\"  \",\"  \",\"  \",\"  \",\"  \",\"  \",\"  \",\"  \",\"  \",\"  \",\"  \",\"  \",\"  \",\"  \",\"  \",\"  \",\"  \"],\"fHeaderPS\":\"\",\"fTitlePS\":\"\",\"fFitFormat\":\"5.4g\",\"fPaintTextFormat\":\"g\",\"fLineScalePS\":3,\"fJoinLinePS\":0,\"fCapLinePS\":0,\"fTimeOffset\":788918400,\"fImageScaling\":1,\"fCandleWhiskerRange\":1,\"fCandleBoxRange\":0.5,\"fCandleScaled\":false,\"fViolinScaled\":true,\"fCandleCircleLineWidth\":1,\"fCandleCrossLineWidth\":1,\"fXAxisExpXOffset\":0,\"fXAxisExpYOffset\":0,\"fYAxisExpXOffset\":0,\"fYAxisExpYOffset\":0,\"fAxisMaxDigits\":5,\"fOrthoCamera\":false}},{\"_typename\":\"TPadWebSnapshot\",\"fUniqueID\":0,\"fBits\":0,\"fObjectID\":\"\",\"fOption\":\"\",\"fKind\":3,\"fSnapshot\":{\"_typename\":\"TPad\",\"fUniqueID\":0,\"fBits\":9,\"fLineColor\":1,\"fLineStyle\":1,\"fLineWidth\":1,\"fFillColor\":0,\"fFillStyle\":1001,\"fLeftMargin\":0.05,\"fRightMargin\":0.01,\"fBottomMargin\":0.15,\"fTopMargin\":0.1,\"fXfile\":2,\"fYfile\":2,\"fAfile\":1,\"fXstat\":0.99,\"fYstat\":0.99,\"fAstat\":2,\"fFrameFillColor\":0,\"fFrameLineColor\":1,\"fFrameFillStyle\":1001,\"fFrameLineStyle\":1,\"fFrameLineWidth\":1,\"fFrameBorderSize\":1,\"fFrameBorderMode\":0,\"fX1\":-66.3829788347076,\"fY1\":-72684.992888242,\"fX2\":61.2765957193846,\"fY2\":411881.610722061,\"fXtoAbsPixelk\":206.828266872805,\"fXtoPixelk\":194.868267140132,\"fXtoPixel\":2.93551555776595,\"fYtoAbsPixelk\":482.195997374773,\"fYtoPixelk\":476.475997502625,\"fYtoPixel\":-0.00115682755699466,\"fUtoAbsPixelk\":11.9599997326732,\"fUtoPixelk\":0,\"fUtoPixel\":374.74666720132,\"fVtoAbsPixelk\":566.280000127852,\"fVtoPixelk\":560.560000255704,\"fVtoPixel\":-560.560000255704,\"fAbsPixeltoXk\":-70.4572204789165,\"fPixeltoXk\":-66.3829788347076,\"fPixeltoX\":0.340655663484557,\"fAbsPixeltoYk\":416826.167788983,\"fPixeltoYk\":-72684.992888242,\"fPixeltoY\":-864.433072979277,\"fXlowNDC\":0.00999999977648258,\"fYlowNDC\":0.00999999977648258,\"fXUpNDC\":0.323333333556851,\"fYUpNDC\":0.990000000223517,\"fWNDC\":0.313333333780368,\"fHNDC\":0.980000000447035,\"fAbsXlowNDC\":0.00999999977648258,\"fAbsYlowNDC\":0.00999999977648258,\"fAbsWNDC\":0.313333333780368,\"fAbsHNDC\":0.980000000447035,\"fUxmin\":-60,\"fUymin\":0,\"fUxmax\":60,\"fUymax\":363424.95,\"fTheta\":30,\"fPhi\":30,\"fAspectRatio\":0,\"fNumber\":1,\"fTickx\":0,\"fTicky\":0,\"fLogx\":0,\"fLogy\":0,\"fLogz\":0,\"fPadPaint\":0,\"fCrosshair\":0,\"fCrosshairPos\":0,\"fBorderSize\":2,\"fBorderMode\":0,\"fModified\":false,\"fGridx\":false,\"fGridy\":false,\"fAbsCoord\":false,\"fEditable\":true,\"fFixedAspectRatio\":false,\"fPrimitives\":{\"_typename\":\"TList\",\"name\":\"TList\",\"arr\":[],\"opt\":[]},\"fExecs\":{\"_typename\":\"TList\",\"name\":\"TList\",\"arr\":[],\"opt\":[]},\"fName\":\"canvas_1\",\"fTitle\":\"canvas_1\",\"fNumPaletteColor\":0,\"fNextPaletteColor\":0},\"fActive\":false,\"fReadOnly\":true,\"fWithoutPrimitives\":false,\"fHasExecs\":true,\"fPrimitives\":[{\"_typename\":\"TWebSnapshot\",\"fUniqueID\":0,\"fBits\":0,\"fObjectID\":\"\",\"fOption\":\"\",\"fKind\":1,\"fSnapshot\":{\"_typename\":\"TFrame\",\"fUniqueID\":0,\"fBits\":8,\"fLineColor\":1,\"fLineStyle\":1,\"fLineWidth\":1,\"fFillColor\":0,\"fFillStyle\":1001,\"fX1\":-60,\"fY1\":0,\"fX2\":60,\"fY2\":363424.95,\"fBorderSize\":1,\"fBorderMode\":0}},{\"_typename\":\"TWebSnapshot\",\"fUniqueID\":0,\"fBits\":0,\"fObjectID\":\"\",\"fOption\":\"hist\",\"fKind\":1,\"fSnapshot\":{\"_typename\":\"TH1D\",\"fUniqueID\":0,\"fBits\":8,\"fName\":\"hVertexZ_JP2\",\"fTitle\":\"JP2\",\"fLineColor\":602,\"fLineStyle\":1,\"fLineWidth\":1,\"fFillColor\":0,\"fFillStyle\":1001,\"fMarkerColor\":1,\"fMarkerStyle\":1,\"fMarkerSize\":1,\"fNcells\":142,\"fXaxis\":{\"_typename\":\"TAxis\",\"fUniqueID\":0,\"fBits\":2048,\"fName\":\"xaxis\",\"fTitle\":\"Z_{vertex} [cm]\",\"fNdivisions\":510,\"fAxisColor\":1,\"fLabelColor\":1,\"fLabelFont\":42,\"fLabelOffset\":0.005,\"fLabelSize\":0.035,\"fTickLength\":0.03,\"fTitleOffset\":1,\"fTitleSize\":0.035,\"fTitleColor\":1,\"fTitleFont\":42,\"fNbins\":140,\"fXmin\":-70,\"fXmax\":70,\"fXbins\":[],\"fFirst\":11,\"fLast\":130,\"fBits2\":0,\"fTimeDisplay\":false,\"fTimeFormat\":\"\",\"fLabels\":null,\"fModLabs\":null},\"fYaxis\":{\"_typename\":\"TAxis\",\"fUniqueID\":0,\"fBits\":0,\"fName\":\"yaxis\",\"fTitle\":\" N\",\"fNdivisions\":510,\"fAxisColor\":1,\"fLabelColor\":1,\"fLabelFont\":42,\"fLabelOffset\":0.005,\"fLabelSize\":0.035,\"fTickLength\":0.03,\"fTitleOffset\":0,\"fTitleSize\":0.035,\"fTitleColor\":1,\"fTitleFont\":42,\"fNbins\":1,\"fXmin\":0,\"fXmax\":1,\"fXbins\":[],\"fFirst\":0,\"fLast\":0,\"fBits2\":0,\"fTimeDisplay\":false,\"fTimeFormat\":\"\",\"fLabels\":null,\"fModLabs\":null},\"fZaxis\":{\"_typename\":\"TAxis\",\"fUniqueID\":0,\"fBits\":0,\"fName\":\"zaxis\",\"fTitle\":\"\",\"fNdivisions\":510,\"fAxisColor\":1,\"fLabelColor\":1,\"fLabelFont\":42,\"fLabelOffset\":0.005,\"fLabelSize\":0.035,\"fTickLength\":0.03,\"fTitleOffset\":1,\"fTitleSize\":0.035,\"fTitleColor\":1,\"fTitleFont\":42,\"fNbins\":1,\"fXmin\":0,\"fXmax\":1,\"fXbins\":[],\"fFirst\":0,\"fLast\":0,\"fBits2\":0,\"fTimeDisplay\":false,\"fTimeFormat\":\"\",\"fLabels\":null,\"fModLabs\":null},\"fBarOffset\":0,\"fBarWidth\":1000,\"fEntries\":28551812,\"fTsumw\":28551812,\"fTsumw2\":28551812,\"fTsumwx\":-24773870.495499,\"fTsumwx2\":20559020639.7683,\"fMaximum\":363424.95,\"fMinimum\":0,\"fNormFactor\":0,\"fContour\":[],\"fSumw2\":[],\"fOption\":\"\",\"fFunctions\":{\"_typename\":\"TList\",\"name\":\"TList\",\"arr\":[{\"_typename\":\"TF1\",\"fUniqueID\":0,\"fBits\":1024,\"fName\":\"gaus_JP2\",\"fTitle\":\"gaus\",\"fLineColor\":900,\"fLineStyle\":1,\"fLineWidth\":3,\"fFillColor\":19,\"fFillStyle\":0,\"fMarkerColor\":1,\"fMarkerStyle\":22,\"fMarkerSize\":1,\"fXmin\":-30,\"fXmax\":30,\"fNpar\":3,\"fNdim\":1,\"fNpx\":100,\"fType\":0,\"fNpfits\":60,\"fNDF\":57,\"fChisquare\":475.259402863493,\"fMinimum\":-1111,\"fMaximum\":-1111,\"fParErrors\":[114.353784685505,0.0282050475359876,0.0743799995179586],\"fParMin\":[0,0,0],\"fParMax\":[0,0,167.801623631356],\"fSave\":{\"$arr\":\"Float64\",\"len\":103,\"v\":[284450.585225063,286804.25806471,289123.423223228,291406.932288918,293653.647720242,295862.443784398,298032.207492151,300161.839527849,302250.255173531,304296.385226053,306299.176906157,308257.594758384,310170.621540785,312037.259103341,313856.529254045,315627.474611591,317349.15944364,319020.670489621,320641.117767072,322209.635360521,323725.382191922,325187.542771696,326595.327929439,327947.97552337,329244.751127639,330484.948696629,331667.891205394,332792.931265439,333859.451715051,334866.866183424,335814.619627859,336702.188843356,337529.082943931,338294.843815051,338999.046536593,339641.299775785,340221.246149625,340738.562556294,341192.96047515,341584.186234901,341912.021249613,342176.282222244,342376.821315441,342513.526289373,342586.320606422,342595.163502601,342540.050025596,342421.011039387,342238.113195446,341991.458870538,341681.186071221,341307.468305161,340870.514419427,340370.568405986,339807.909174648,339182.850293747,338495.739698919,337746.959370324,336936.924978765,336066.08550113,335134.922805685,334143.951207732,333093.716996215,331984.797931886,330817.80271767,329593.370441912,328312.169995223,326974.899461657,325582.285485008,324135.082611031,322634.072606405,321080.063755318,319473.890134552,317816.410867965,316108.509361327,314351.092518442,312545.089939535,310691.453102904,308791.154530824,306845.186940745,304854.562382814,302820.31136475,300743.481965159,298625.13893633,296466.36279759,294268.248920299,292031.906605565,289758.458155753,287449.037940874,285104.791460944,282726.874405371,280316.451710461,277874.696616101,275402.789722677,272901.918049283,270373.274094251,267818.054899037,265237.461116472,262632.696084379,260004.964905531,257355.473534925,-30,30]},\"fNormalized\":false,\"fNormIntegral\":0,\"fFormula\":{\"_typename\":\"TFormula\",\"fUniqueID\":0,\"fBits\":1024,\"fName\":\"gaus_JP2\",\"fTitle\":\"gaus\",\"fClingParameters\":[342599.348439752,-3.21704612578503,43.9121306934181],\"fAllParametersSetted\":true,\"fParams\":[{\"$pair\":\"pair<TString,int,TFormulaParamOrder>\",\"first\":\"Constant\",\"second\":0},{\"$pair\":\"pair<TString,int,TFormulaParamOrder>\",\"first\":\"Mean\",\"second\":1},{\"$pair\":\"pair<TString,int,TFormulaParamOrder>\",\"first\":\"Sigma\",\"second\":2}],\"fFormula\":\"[Constant]*exp(-0.5*((x-[Mean])\\/[Sigma])*((x-[Mean])\\/[Sigma]))\",\"fNdim\":1,\"fNumber\":100,\"fLinearParts\":[],\"fVectorized\":false},\"fParams\":null,\"fComposition\":null},{\"_typename\":\"TPaveStats\",\"fUniqueID\":0,\"fBits\":9,\"fLineColor\":1,\"fLineStyle\":1,\"fLineWidth\":1,\"fFillColor\":0,\"fFillStyle\":1001,\"fX1\":12.7659591389234,\"fY1\":244706.136664457,\"fX2\":58.7234066632159,\"fY2\":380384.782642688,\"fX1NDC\":0.620000013709068,\"fY1NDC\":0.655000008642673,\"fX2NDC\":0.980000019073486,\"fY2NDC\":0.935000002384186,\"fBorderSize\":1,\"fInit\":1,\"fShadowColor\":1,\"fCornerRadius\":0,\"fOption\":\"brNDC\",\"fName\":\"stats\",\"fTextAngle\":0,\"fTextSize\":0,\"fTextAlign\":12,\"fTextColor\":1,\"fTextFont\":42,\"fLabel\":\"\",\"fLongest\":35,\"fMargin\":0.05,\"fLines\":{\"_typename\":\"TList\",\"name\":\"TList\",\"arr\":[{\"_typename\":\"TLatex\",\"fUniqueID\":0,\"fBits\":0,\"fName\":\"\",\"fTitle\":\"Mean  = -0.8676\",\"fTextAngle\":0,\"fTextSize\":0,\"fTextAlign\":0,\"fTextColor\":0,\"fTextFont\":0,\"fX\":0,\"fY\":0,\"fLineColor\":1,\"fLineStyle\":1,\"fLineWidth\":2,\"fLimitFactorSize\":3,\"fOriginSize\":0.0234482102096081},{\"_typename\":\"TLatex\",\"fUniqueID\":0,\"fBits\":0,\"fName\":\"\",\"fTitle\":\"#chi^{2} \\/ ndf = 475.3 \\/ 57\",\"fTextAngle\":0,\"fTextSize\":0,\"fTextAlign\":0,\"fTextColor\":0,\"fTextFont\":0,\"fX\":0,\"fY\":0,\"fLineColor\":1,\"fLineStyle\":1,\"fLineWidth\":2,\"fLimitFactorSize\":3,\"fOriginSize\":0.0234482102096081},{\"_typename\":\"TLatex\",\"fUniqueID\":0,\"fBits\":0,\"fName\":\"\",\"fTitle\":\"Constant = 3.426e+05 #pm 1.144e+02 \",\"fTextAngle\":0,\"fTextSize\":0,\"fTextAlign\":0,\"fTextColor\":0,\"fTextFont\":0,\"fX\":0,\"fY\":0,\"fLineColor\":1,\"fLineStyle\":1,\"fLineWidth\":2,\"fLimitFactorSize\":3,\"fOriginSize\":0.0234482102096081},{\"_typename\":\"TLatex\",\"fUniqueID\":0,\"fBits\":0,\"fName\":\"\",\"fTitle\":\"Mean     = -3.217 #pm 0.028 \",\"fTextAngle\":0,\"fTextSize\":0,\"fTextAlign\":0,\"fTextColor\":0,\"fTextFont\":0,\"fX\":0,\"fY\":0,\"fLineColor\":1,\"fLineStyle\":1,\"fLineWidth\":2,\"fLimitFactorSize\":3,\"fOriginSize\":0.0234482102096081},{\"_typename\":\"TLatex\",\"fUniqueID\":0,\"fBits\":0,\"fName\":\"\",\"fTitle\":\"Sigma    = 43.91 #pm 0.07 \",\"fTextAngle\":0,\"fTextSize\":0,\"fTextAlign\":0,\"fTextColor\":0,\"fTextFont\":0,\"fX\":0,\"fY\":0,\"fLineColor\":1,\"fLineStyle\":1,\"fLineWidth\":2,\"fLimitFactorSize\":3,\"fOriginSize\":0.0234482102096081}],\"opt\":[null,null,null,null,null]},\"fOptFit\":112,\"fOptStat\":100,\"fFitFormat\":\"5.4g\",\"fStatFormat\":\"6.4g\",\"fParent\":{\"$ref\":19}}],\"opt\":[null,null]},\"fBufferSize\":0,\"fBuffer\":[],\"fBinStatErrOpt\":0,\"fStatOverflows\":2,\"fArray\":{\"$arr\":\"Float64\",\"len\":142,\"p\":21,\"v\":[214900,216760,221194,224914,227320,232668,235544,239240,242743,246379,249304,254382,257484,260696,264843,268082,272572,275688,279162,282538,286491,290096,293613,297895,300593,303492,307132,310087,313335,316603,319333,321462,324499,326984,328995,331217,333571,335242,337036,337585,341507,342275,341716,344445,343913,346119,344138,344170,343518,342857,343042,340415,340876,340012,337437,336978,334493,331557,329674,326336,323597,321944,319312,315785,314367,311049,307379,304423,301085,298044,294228,291716,287882,284555,281262,277667,274564,270048,266893,263573,260349,256563,254242,249463,246406,242798,239538,236490,232696,230235,226446,222871,219386,216711,213163,210484,206253,203447,200767,196979]}}},{\"_typename\":\"TWebSnapshot\",\"fUniqueID\":0,\"fBits\":0,\"fObjectID\":\"\",\"fOption\":\"same;prefer_saved\",\"fKind\":1,\"fSnapshot\":{\"_typename\":\"TF1\",\"fUniqueID\":0,\"fBits\":8,\"fName\":\"gaus_JP2\",\"fTitle\":\"gaus\",\"fLineColor\":900,\"fLineStyle\":1,\"fLineWidth\":3,\"fFillColor\":19,\"fFillStyle\":0,\"fMarkerColor\":1,\"fMarkerStyle\":22,\"fMarkerSize\":1,\"fXmin\":-30,\"fXmax\":30,\"fNpar\":3,\"fNdim\":1,\"fNpx\":100,\"fType\":0,\"fNpfits\":60,\"fNDF\":57,\"fChisquare\":475.259402863493,\"fMinimum\":-1111,\"fMaximum\":-1111,\"fParErrors\":[114.353784685505,0.0282050475359876,0.0743799995179586],\"fParMin\":[0,0,0],\"fParMax\":[0,0,167.801623631356],\"fSave\":{\"$arr\":\"Float64\",\"len\":102,\"v\":[285631.662930404,287968.226123591,290269.706129807,292534.959854919,294762.855544645,296952.273721389,299102.108116798,301211.266598962,303278.672093169,305303.263495129,307283.996575608,309219.844875368,311109.80058937,312952.875439153,314748.101532352,316494.532208303,318191.242868706,319837.33179232,321431.9209327,322974.15669797,324463.210711688,325898.280553831,327278.590480988,328603.392124848,329871.965168114,331083.617996969,332237.688329294,333333.543817815,334370.582627422,335348.233985922,336265.95870752,337123.249688349,337919.632373427,338654.665194418,339327.939977654,339939.082321873,340487.751945191,340973.643000859,341396.484361392,341756.039870697,342052.108563886,342284.524854468,342453.158688687,342557.91566681,342598.737131193,342575.600221017,342488.517893628,342337.53891244,342122.74780143,341844.264766274,341502.245582239,341096.881448961,340628.398812311,340097.059153585,339503.15874627,338847.028380736,338129.033057184,337349.571647257,336509.076524768,335608.013165997,334646.879720101,333626.20655017,332546.555745532,331408.520605943,330212.7250983,328959.823286596,327650.498735839,326285.463890691,324865.459429623,323391.253595399,321863.641502746,320283.444424072,318651.509054135,316968.70675459,315235.932779338,313454.105481665,311624.165504134,309747.074952236,307823.816552814,305855.392798291,303842.825077738,301787.152795836,299689.432480797,297550.736882308,295372.154060569,293154.786467513,290899.750021283,288608.173175045,286281.195981228,283919.969152265,281525.6531189,279099.417087154,276642.438094994,274155.900069762,271640.992887418,269098.911434622,266530.854674674,263938.024718325,261321.625900445,258682.863863513,-29.7,29.7]},\"fNormalized\":false,\"fNormIntegral\":0,\"fFormula\":{\"_typename\":\"TFormula\",\"fUniqueID\":0,\"fBits\":1024,\"fName\":\"gaus_JP2\",\"fTitle\":\"gaus\",\"fClingParameters\":[342599.348439752,-3.21704612578503,43.9121306934181],\"fAllParametersSetted\":true,\"fParams\":[{\"$pair\":\"pair<TString,int,TFormulaParamOrder>\",\"first\":\"Constant\",\"second\":0},{\"$pair\":\"pair<TString,int,TFormulaParamOrder>\",\"first\":\"Mean\",\"second\":1},{\"$pair\":\"pair<TString,int,TFormulaParamOrder>\",\"first\":\"Sigma\",\"second\":2}],\"fFormula\":\"[Constant]*exp(-0.5*((x-[Mean])\\/[Sigma])*((x-[Mean])\\/[Sigma]))\",\"fNdim\":1,\"fNumber\":100,\"fLinearParts\":[],\"fVectorized\":false},\"fParams\":null,\"fComposition\":null}},{\"_typename\":\"TWebSnapshot\",\"fUniqueID\":0,\"fBits\":0,\"fObjectID\":\"\",\"fOption\":\"\",\"fKind\":1,\"fSnapshot\":{\"_typename\":\"TLine\",\"fUniqueID\":0,\"fBits\":9,\"fLineColor\":632,\"fLineStyle\":2,\"fLineWidth\":1,\"fX1\":-30,\"fY1\":0,\"fX2\":-30,\"fY2\":363424.95}},{\"_typename\":\"TWebSnapshot\",\"fUniqueID\":0,\"fBits\":0,\"fObjectID\":\"\",\"fOption\":\"\",\"fKind\":1,\"fSnapshot\":{\"_typename\":\"TLine\",\"fUniqueID\":0,\"fBits\":9,\"fLineColor\":632,\"fLineStyle\":2,\"fLineWidth\":1,\"fX1\":30,\"fY1\":0,\"fX2\":30,\"fY2\":363424.95}},{\"_typename\":\"TWebSnapshot\",\"fUniqueID\":0,\"fBits\":0,\"fObjectID\":\"\",\"fOption\":\"\",\"fKind\":1,\"fSnapshot\":{\"_typename\":\"TLatex\",\"fUniqueID\":0,\"fBits\":16393,\"fName\":\"\",\"fTitle\":\"51.1 % total\",\"fTextAngle\":0,\"fTextSize\":0.03,\"fTextAlign\":11,\"fTextColor\":632,\"fTextFont\":62,\"fX\":0.45,\"fY\":0.7,\"fLineColor\":1,\"fLineStyle\":1,\"fLineWidth\":2,\"fLimitFactorSize\":3,\"fOriginSize\":0.0299999993294477}},{\"_typename\":\"TWebSnapshot\",\"fUniqueID\":0,\"fBits\":0,\"fObjectID\":\"\",\"fOption\":\"blNDC\",\"fKind\":1,\"fSnapshot\":{\"_typename\":\"TPaveText\",\"fUniqueID\":0,\"fBits\":9,\"fLineColor\":1,\"fLineStyle\":1,\"fLineWidth\":1,\"fFillColor\":0,\"fFillStyle\":0,\"fX1\":-9.6209335824399,\"fY1\":382807.616418903,\"fX2\":4.51455046711689,\"fY2\":409458.780014603,\"fX1NDC\":0.444636020843203,\"fY1NDC\":0.940000003948808,\"fX2NDC\":0.555363979156797,\"fY2NDC\":0.995000004768372,\"fBorderSize\":0,\"fInit\":1,\"fShadowColor\":1,\"fCornerRadius\":0,\"fOption\":\"blNDC\",\"fName\":\"title\",\"fTextAngle\":0,\"fTextSize\":0,\"fTextAlign\":22,\"fTextColor\":1,\"fTextFont\":42,\"fLabel\":\"\",\"fLongest\":3,\"fMargin\":0.05,\"fLines\":{\"_typename\":\"TList\",\"name\":\"TList\",\"arr\":[{\"_typename\":\"TLatex\",\"fUniqueID\":0,\"fBits\":0,\"fName\":\"\",\"fTitle\":\"JP2\",\"fTextAngle\":0,\"fTextSize\":0,\"fTextAlign\":0,\"fTextColor\":0,\"fTextFont\":0,\"fX\":0,\"fY\":0,\"fLineColor\":1,\"fLineStyle\":1,\"fLineWidth\":2,\"fLimitFactorSize\":3,\"fOriginSize\":0.0467500016093254}],\"opt\":[null]}}}]},{\"_typename\":\"TPadWebSnapshot\",\"fUniqueID\":0,\"fBits\":0,\"fObjectID\":\"\",\"fOption\":\"\",\"fKind\":3,\"fSnapshot\":{\"_typename\":\"TPad\",\"fUniqueID\":0,\"fBits\":9,\"fLineColor\":1,\"fLineStyle\":1,\"fLineWidth\":1,\"fFillColor\":0,\"fFillStyle\":1001,\"fLeftMargin\":0.05,\"fRightMargin\":0.01,\"fBottomMargin\":0.15,\"fTopMargin\":0.1,\"fXfile\":2,\"fYfile\":2,\"fAfile\":1,\"fXstat\":0.99,\"fYstat\":0.99,\"fAstat\":2,\"fFrameFillColor\":0,\"fFrameLineColor\":1,\"fFrameFillStyle\":1001,\"fFrameLineStyle\":1,\"fFrameLineWidth\":1,\"fFrameBorderSize\":1,\"fFrameBorderMode\":0,\"fX1\":-66.3829788347076,\"fY1\":-45737.3718174398,\"fX2\":61.2765957193846,\"fY2\":259178.43045436,\"fXtoAbsPixelk\":605.494933539472,\"fXtoPixelk\":194.868267140132,\"fXtoPixel\":2.93551555776595,\"fYtoAbsPixelk\":482.195997374773,\"fYtoPixelk\":476.475997502625,\"fYtoPixel\":-0.00183840914796546,\"fUtoAbsPixelk\":410.62666639934,\"fUtoPixelk\":0,\"fUtoPixel\":374.74666720132,\"fVtoAbsPixelk\":566.280000127852,\"fVtoPixelk\":560.560000255704,\"fVtoPixel\":-560.560000255704,\"fAbsPixeltoXk\":-206.265278321427,\"fPixeltoXk\":-66.3829788347076,\"fPixeltoX\":0.340655663484557,\"fAbsPixeltoYk\":262289.816120863,\"fPixeltoYk\":-45737.3718174398,\"fPixeltoY\":-543.948555253158,\"fXlowNDC\":0.343333333109816,\"fYlowNDC\":0.00999999977648258,\"fXUpNDC\":0.656666666890184,\"fYUpNDC\":0.990000000223517,\"fWNDC\":0.313333333780368,\"fHNDC\":0.980000000447035,\"fAbsXlowNDC\":0.343333333109816,\"fAbsYlowNDC\":0.00999999977648258,\"fAbsWNDC\":0.313333333780368,\"fAbsHNDC\":0.980000000447035,\"fUxmin\":-60,\"fUymin\":0,\"fUxmax\":60,\"fUymax\":228686.85,\"fTheta\":30,\"fPhi\":30,\"fAspectRatio\":0,\"fNumber\":2,\"fTickx\":0,\"fTicky\":0,\"fLogx\":0,\"fLogy\":0,\"fLogz\":0,\"fPadPaint\":0,\"fCrosshair\":0,\"fCrosshairPos\":0,\"fBorderSize\":2,\"fBorderMode\":0,\"fModified\":false,\"fGridx\":false,\"fGridy\":false,\"fAbsCoord\":false,\"fEditable\":true,\"fFixedAspectRatio\":false,\"fPrimitives\":{\"_typename\":\"TList\",\"name\":\"TList\",\"arr\":[],\"opt\":[]},\"fExecs\":{\"_typename\":\"TList\",\"name\":\"TList\",\"arr\":[],\"opt\":[]},\"fName\":\"canvas_2\",\"fTitle\":\"canvas_2\",\"fNumPaletteColor\":0,\"fNextPaletteColor\":0},\"fActive\":false,\"fReadOnly\":true,\"fWithoutPrimitives\":false,\"fHasExecs\":true,\"fPrimitives\":[{\"_typename\":\"TWebSnapshot\",\"fUniqueID\":0,\"fBits\":0,\"fObjectID\":\"\",\"fOption\":\"\",\"fKind\":1,\"fSnapshot\":{\"_typename\":\"TFrame\",\"fUniqueID\":0,\"fBits\":8,\"fLineColor\":1,\"fLineStyle\":1,\"fLineWidth\":1,\"fFillColor\":0,\"fFillStyle\":1001,\"fX1\":-60,\"fY1\":0,\"fX2\":60,\"fY2\":228686.85,\"fBorderSize\":1,\"fBorderMode\":0}},{\"_typename\":\"TWebSnapshot\",\"fUniqueID\":0,\"fBits\":0,\"fObjectID\":\"\",\"fOption\":\"hist\",\"fKind\":1,\"fSnapshot\":{\"_typename\":\"TH1D\",\"fUniqueID\":0,\"fBits\":8,\"fName\":\"hVertexZ_HT2\",\"fTitle\":\"HT2\",\"fLineColor\":602,\"fLineStyle\":1,\"fLineWidth\":1,\"fFillColor\":0,\"fFillStyle\":1001,\"fMarkerColor\":1,\"fMarkerStyle\":1,\"fMarkerSize\":1,\"fNcells\":142,\"fXaxis\":{\"_typename\":\"TAxis\",\"fUniqueID\":0,\"fBits\":2048,\"fName\":\"xaxis\",\"fTitle\":\"Z_{vertex} [cm]\",\"fNdivisions\":510,\"fAxisColor\":1,\"fLabelColor\":1,\"fLabelFont\":42,\"fLabelOffset\":0.005,\"fLabelSize\":0.035,\"fTickLength\":0.03,\"fTitleOffset\":1,\"fTitleSize\":0.035,\"fTitleColor\":1,\"fTitleFont\":42,\"fNbins\":140,\"fXmin\":-70,\"fXmax\":70,\"fXbins\":[],\"fFirst\":11,\"fLast\":130,\"fBits2\":0,\"fTimeDisplay\":false,\"fTimeFormat\":\"\",\"fLabels\":null,\"fModLabs\":null},\"fYaxis\":{\"_typename\":\"TAxis\",\"fUniqueID\":0,\"fBits\":0,\"fName\":\"yaxis\",\"fTitle\":\" N\",\"fNdivisions\":510,\"fAxisColor\":1,\"fLabelColor\":1,\"fLabelFont\":42,\"fLabelOffset\":0.005,\"fLabelSize\":0.035,\"fTickLength\":0.03,\"fTitleOffset\":0,\"fTitleSize\":0.035,\"fTitleColor\":1,\"fTitleFont\":42,\"fNbins\":1,\"fXmin\":0,\"fXmax\":1,\"fXbins\":[],\"fFirst\":0,\"fLast\":0,\"fBits2\":0,\"fTimeDisplay\":false,\"fTimeFormat\":\"\",\"fLabels\":null,\"fModLabs\":null},\"fZaxis\":{\"_typename\":\"TAxis\",\"fUniqueID\":0,\"fBits\":0,\"fName\":\"zaxis\",\"fTitle\":\"\",\"fNdivisions\":510,\"fAxisColor\":1,\"fLabelColor\":1,\"fLabelFont\":42,\"fLabelOffset\":0.005,\"fLabelSize\":0.035,\"fTickLength\":0.03,\"fTitleOffset\":1,\"fTitleSize\":0.035,\"fTitleColor\":1,\"fTitleFont\":42,\"fNbins\":1,\"fXmin\":0,\"fXmax\":1,\"fXbins\":[],\"fFirst\":0,\"fLast\":0,\"fBits2\":0,\"fTimeDisplay\":false,\"fTimeFormat\":\"\",\"fLabels\":null,\"fModLabs\":null},\"fBarOffset\":0,\"fBarWidth\":1000,\"fEntries\":17957390,\"fTsumw\":17957390,\"fTsumw2\":17957390,\"fTsumwx\":109903.699816834,\"fTsumwx2\":12803328928.1316,\"fMaximum\":228686.85,\"fMinimum\":0,\"fNormFactor\":0,\"fContour\":[],\"fSumw2\":[],\"fOption\":\"\",\"fFunctions\":{\"_typename\":\"TList\",\"name\":\"TList\",\"arr\":[{\"_typename\":\"TF1\",\"fUniqueID\":0,\"fBits\":1024,\"fName\":\"gaus_HT2\",\"fTitle\":\"gaus\",\"fLineColor\":900,\"fLineStyle\":1,\"fLineWidth\":3,\"fFillColor\":19,\"fFillStyle\":0,\"fMarkerColor\":1,\"fMarkerStyle\":22,\"fMarkerSize\":1,\"fXmin\":-30,\"fXmax\":30,\"fNpar\":3,\"fNdim\":1,\"fNpx\":100,\"fType\":0,\"fNpfits\":60,\"fNDF\":57,\"fChisquare\":285.483608966071,\"fMinimum\":-1111,\"fMaximum\":-1111,\"fParErrors\":[91.7820745398807,0.0323745575281797,0.0894678310408672],\"fParMin\":[0,0,0],\"fParMax\":[0,0,167.678775816132],\"fSave\":{\"$arr\":\"Float64\",\"len\":103,\"v\":[173098.532162814,174700.569110883,176283.541137439,177846.664176929,179389.158632922,180910.250019773,182409.169604984,183885.155051529,185337.451059378,186765.310005492,188167.992581525,189544.768428477,190894.916767543,192217.727026396,193512.499460149,194778.545766237,196015.189692465,197221.767637477,198397.629242893,199542.137976384,200654.671704956,201734.62325771,202781.400977376,203794.429259928,204773.149081566,205717.018512423,206625.513216309,207498.126935864,208334.371962487,209133.77959043,209895.900554464,210620.305450546,211306.585138943,211954.351129272,212563.235946951,213132.893480588,213662.999309832,214153.251013267,214603.368455927,215013.094056056,215382.193030759,215710.453620209,215997.687290121,216243.728912207,216448.436922388,216611.693456532,216733.404463555,216813.499795718,216851.933276003,216848.68274248,216803.75006961,216717.161166438,216588.965951695,216419.238305842,216208.076000107,215955.600602624,215661.957361793,215327.315067024,214951.86588704,214535.825185972,214079.43131748,213582.945397176,213046.651053664,212470.854158517,211855.882535555,211202.085649818,210509.834276633,209779.520151225,209011.55559933,208206.373149307,207364.425126237,206486.183228575,205572.138087875,204622.798812195,203638.692513748,202620.363821437,201568.374378883,200483.302328614,199365.741783057,198216.302283028,197035.608244397,195824.298393638,194583.025192973,193312.454255836,192013.263753385,190686.143812805,189331.795908142,187950.932244425,186544.275135824,185112.556378606,183656.51661964,182176.904721221,180674.477122961,179149.997201504,177604.234628828,176037.964729869,174451.967840216,172847.028664622,171223.935637044,169583.480282945,167926.456584567,-30,30]},\"fNormalized\":false,\"fNormIntegral\":0,\"fFormula\":{\"_typename\":\"TFormula\",\"fUniqueID\":0,\"fBits\":1024,\"fName\":\"gaus_HT2\",\"fTitle\":\"gaus\",\"fClingParameters\":[216855.645689713,-0.94678470358907,43.2743211127847],\"fAllParametersSetted\":true,\"fParams\":[{\"$pair\":\"pair<TString,int,TFormulaParamOrder>\",\"first\":\"Constant\",\"second\":0},{\"$pair\":\"pair<TString,int,TFormulaParamOrder>\",\"first\":\"Mean\",\"second\":1},{\"$pair\":\"pair<TString,int,TFormulaParamOrder>\",\"first\":\"Sigma\",\"second\":2}],\"fFormula\":\"[Constant]*exp(-0.5*((x-[Mean])\\/[Sigma])*((x-[Mean])\\/[Sigma]))\",\"fNdim\":1,\"fNumber\":100,\"fLinearParts\":[],\"fVectorized\":false},\"fParams\":null,\"fComposition\":null},{\"_typename\":\"TPaveStats\",\"fUniqueID\":0,\"fBits\":9,\"fLineColor\":1,\"fLineStyle\":1,\"fLineWidth\":1,\"fFillColor\":0,\"fFillStyle\":1001,\"fX1\":12.7659591389234,\"fY1\":153982.481305877,\"fX2\":58.7234066632159,\"fY2\":239358.904033669,\"fX1NDC\":0.620000013709068,\"fY1NDC\":0.655000008642673,\"fX2NDC\":0.980000019073486,\"fY2NDC\":0.935000002384186,\"fBorderSize\":1,\"fInit\":1,\"fShadowColor\":1,\"fCornerRadius\":0,\"fOption\":\"brNDC\",\"fName\":\"stats\",\"fTextAngle\":0,\"fTextSize\":0,\"fTextAlign\":12,\"fTextColor\":1,\"fTextFont\":42,\"fLabel\":\"\",\"fLongest\":35,\"fMargin\":0.05,\"fLines\":{\"_typename\":\"TList\",\"name\":\"TList\",\"arr\":[{\"_typename\":\"TLatex\",\"fUniqueID\":0,\"fBits\":0,\"fName\":\"\",\"fTitle\":\"Mean  = 0.006182\",\"fTextAngle\":0,\"fTextSize\":0,\"fTextAlign\":0,\"fTextColor\":0,\"fTextFont\":0,\"fX\":0,\"fY\":0,\"fLineColor\":1,\"fLineStyle\":1,\"fLineWidth\":2,\"fLimitFactorSize\":3,\"fOriginSize\":0.0236928947269917},{\"_typename\":\"TLatex\",\"fUniqueID\":0,\"fBits\":0,\"fName\":\"\",\"fTitle\":\"#chi^{2} \\/ ndf = 285.5 \\/ 57\",\"fTextAngle\":0,\"fTextSize\":0,\"fTextAlign\":0,\"fTextColor\":0,\"fTextFont\":0,\"fX\":0,\"fY\":0,\"fLineColor\":1,\"fLineStyle\":1,\"fLineWidth\":2,\"fLimitFactorSize\":3,\"fOriginSize\":0.0236928947269917},{\"_typename\":\"TLatex\",\"fUniqueID\":0,\"fBits\":0,\"fName\":\"\",\"fTitle\":\"Constant = 2.169e+05 #pm 9.178e+01 \",\"fTextAngle\":0,\"fTextSize\":0,\"fTextAlign\":0,\"fTextColor\":0,\"fTextFont\":0,\"fX\":0,\"fY\":0,\"fLineColor\":1,\"fLineStyle\":1,\"fLineWidth\":2,\"fLimitFactorSize\":3,\"fOriginSize\":0.0236928947269917},{\"_typename\":\"TLatex\",\"fUniqueID\":0,\"fBits\":0,\"fName\":\"\",\"fTitle\":\"Mean     = -0.9468 #pm 0.0324 \",\"fTextAngle\":0,\"fTextSize\":0,\"fTextAlign\":0,\"fTextColor\":0,\"fTextFont\":0,\"fX\":0,\"fY\":0,\"fLineColor\":1,\"fLineStyle\":1,\"fLineWidth\":2,\"fLimitFactorSize\":3,\"fOriginSize\":0.0236928947269917},{\"_typename\":\"TLatex\",\"fUniqueID\":0,\"fBits\":0,\"fName\":\"\",\"fTitle\":\"Sigma    = 43.27 #pm 0.09 \",\"fTextAngle\":0,\"fTextSize\":0,\"fTextAlign\":0,\"fTextColor\":0,\"fTextFont\":0,\"fX\":0,\"fY\":0,\"fLineColor\":1,\"fLineStyle\":1,\"fLineWidth\":2,\"fLimitFactorSize\":3,\"fOriginSize\":0.0236928947269917}],\"opt\":[null,null,null,null,null]},\"fOptFit\":112,\"fOptStat\":100,\"fFitFormat\":\"5.4g\",\"fStatFormat\":\"6.4g\",\"fParent\":{\"$ref\":53}}],\"opt\":[null,null]},\"fBufferSize\":0,\"fBuffer\":[],\"fBinStatErrOpt\":0,\"fStatOverflows\":2,\"fArray\":{\"$arr\":\"Float64\",\"len\":142,\"p\":21,\"v\":[123531,126143,127325,130376,132477,135689,138193,140875,142635,145807,147675,151525,153698,155106,158888,160230,163875,165895,168319,171689,173878,176410,180207,181912,183636,186256,188704,190786,193627,195521,198606,199286,201545,203751,204389,206095,208495,209680,210841,212692,214053,214920,214816,216381,216653,217462,217110,216915,217056,217797,217605,217603,216177,216158,214747,214033,213470,212474,212032,208875,208874,207012,205713,204340,201933,200479,197837,196550,194969,193416,191079,188807,186673,184386,181668,180831,179113,176194,173773,171925,169732,167018,165704,162980,160913,158695,155482,154658,152105,150109,147905,145853,143785,141500,139427,136533,134806,132565,130507,128936]}}},{\"_typename\":\"TWebSnapshot\",\"fUniqueID\":0,\"fBits\":0,\"fObjectID\":\"\",\"fOption\":\"same;prefer_saved\",\"fKind\":1,\"fSnapshot\":{\"_typename\":\"TF1\",\"fUniqueID\":0,\"fBits\":8,\"fName\":\"gaus_HT2\",\"fTitle\":\"gaus\",\"fLineColor\":900,\"fLineStyle\":1,\"fLineWidth\":3,\"fFillColor\":19,\"fFillStyle\":0,\"fMarkerColor\":1,\"fMarkerStyle\":22,\"fMarkerSize\":1,\"fXmin\":-30,\"fXmax\":30,\"fNpar\":3,\"fNdim\":1,\"fNpx\":100,\"fType\":0,\"fNpfits\":60,\"fNDF\":57,\"fChisquare\":285.483608966071,\"fMinimum\":-1111,\"fMaximum\":-1111,\"fParErrors\":[91.7820745398807,0.0323745575281797,0.0894678310408672],\"fParMin\":[0,0,0],\"fParMax\":[0,0,167.678775816132],\"fSave\":{\"$arr\":\"Float64\",\"len\":102,\"v\":[173901.884590885,175494.48734068,177067.632617603,178620.538510526,180152.42789814,181662.529091065,183150.07647428,184614.311149146,186054.481574253,187469.84420437,188859.664126711,190223.215693786,191559.783152057,192868.661265661,194149.155934419,195400.584805404,196622.277877283,197813.578096721,198973.841946074,200102.44002166,201198.757601874,202262.195204417,203292.169131964,204288.112005543,205249.473284964,206175.719775628,207066.336121052,207920.825280491,208738.708991022,209519.528213496,210262.843561779,210968.23571471,211635.305810251,212263.675821293,212852.988912637,213402.909778667,213913.124961278,214383.343147627,214813.29544732,215202.735648657,215551.440453605,215859.209691166,216125.866508884,216351.257542198,216535.253061445,216677.747096304,216778.657537504,216837.926215682,216855.518957258,216831.42561728,216765.660089168,216658.260291367,216509.288130907,216318.829443935,216086.993913293,215813.914963245,215499.749631511,215144.678418762,214748.905115793,214312.656608598,213836.182661603,213319.755679361,212763.670447015,212168.243849882,211533.814572523,210860.742777716,210149.409765732,209400.217614395,208613.588800375,207789.965802235,206929.81068573,206033.604671934,205101.847688727,204135.057906245,203133.771256903,202098.540940589,201029.936915694,199928.54537662,198794.968218432,197629.82248935,196433.739831772,195207.365912523,193951.359843075,192666.393590441,191353.151379489,190012.329087417,188644.633631138,187250.782348324,185831.502372871,184387.530005532,182919.610080485,181428.495328603,179914.945738154,178379.727913722,176823.614434073,175247.383209725,173651.816840957,172037.701976993,170405.828677086,168756.989774217,-29.7,29.7]},\"fNormalized\":false,\"fNormIntegral\":0,\"fFormula\":{\"_typename\":\"TFormula\",\"fUniqueID\":0,\"fBits\":1024,\"fName\":\"gaus_HT2\",\"fTitle\":\"gaus\",\"fClingParameters\":[216855.645689713,-0.94678470358907,43.2743211127847],\"fAllParametersSetted\":true,\"fParams\":[{\"$pair\":\"pair<TString,int,TFormulaParamOrder>\",\"first\":\"Constant\",\"second\":0},{\"$pair\":\"pair<TString,int,TFormulaParamOrder>\",\"first\":\"Mean\",\"second\":1},{\"$pair\":\"pair<TString,int,TFormulaParamOrder>\",\"first\":\"Sigma\",\"second\":2}],\"fFormula\":\"[Constant]*exp(-0.5*((x-[Mean])\\/[Sigma])*((x-[Mean])\\/[Sigma]))\",\"fNdim\":1,\"fNumber\":100,\"fLinearParts\":[],\"fVectorized\":false},\"fParams\":null,\"fComposition\":null}},{\"_typename\":\"TWebSnapshot\",\"fUniqueID\":0,\"fBits\":0,\"fObjectID\":\"\",\"fOption\":\"\",\"fKind\":1,\"fSnapshot\":{\"_typename\":\"TLine\",\"fUniqueID\":0,\"fBits\":9,\"fLineColor\":632,\"fLineStyle\":2,\"fLineWidth\":1,\"fX1\":-30,\"fY1\":0,\"fX2\":-30,\"fY2\":228686.85}},{\"_typename\":\"TWebSnapshot\",\"fUniqueID\":0,\"fBits\":0,\"fObjectID\":\"\",\"fOption\":\"\",\"fKind\":1,\"fSnapshot\":{\"_typename\":\"TLine\",\"fUniqueID\":0,\"fBits\":9,\"fLineColor\":632,\"fLineStyle\":2,\"fLineWidth\":1,\"fX1\":30,\"fY1\":0,\"fX2\":30,\"fY2\":228686.85}},{\"_typename\":\"TWebSnapshot\",\"fUniqueID\":0,\"fBits\":0,\"fObjectID\":\"\",\"fOption\":\"\",\"fKind\":1,\"fSnapshot\":{\"_typename\":\"TLatex\",\"fUniqueID\":0,\"fBits\":16393,\"fName\":\"\",\"fTitle\":\"51.9 % total\",\"fTextAngle\":0,\"fTextSize\":0.03,\"fTextAlign\":11,\"fTextColor\":632,\"fTextFont\":62,\"fX\":0.45,\"fY\":0.7,\"fLineColor\":1,\"fLineStyle\":1,\"fLineWidth\":2,\"fLimitFactorSize\":3,\"fOriginSize\":0.0299999993294477}},{\"_typename\":\"TWebSnapshot\",\"fUniqueID\":0,\"fBits\":0,\"fObjectID\":\"\",\"fOption\":\"blNDC\",\"fKind\":1,\"fSnapshot\":{\"_typename\":\"TPaveText\",\"fUniqueID\":0,\"fBits\":9,\"fLineColor\":1,\"fLineStyle\":1,\"fLineWidth\":1,\"fFillColor\":0,\"fFillStyle\":0,\"fX1\":-9.96158924592444,\"fY1\":240883.483522106,\"fX2\":4.85520613060145,\"fY2\":257653.852896953,\"fX1NDC\":0.441967551481038,\"fY1NDC\":0.940000003948808,\"fX2NDC\":0.558032448518962,\"fY2NDC\":0.995000004768372,\"fBorderSize\":0,\"fInit\":1,\"fShadowColor\":1,\"fCornerRadius\":0,\"fOption\":\"blNDC\",\"fName\":\"title\",\"fTextAngle\":0,\"fTextSize\":0,\"fTextAlign\":22,\"fTextColor\":1,\"fTextFont\":42,\"fLabel\":\"\",\"fLongest\":3,\"fMargin\":0.05,\"fLines\":{\"_typename\":\"TList\",\"name\":\"TList\",\"arr\":[{\"_typename\":\"TLatex\",\"fUniqueID\":0,\"fBits\":0,\"fName\":\"\",\"fTitle\":\"HT2\",\"fTextAngle\":0,\"fTextSize\":0,\"fTextAlign\":0,\"fTextColor\":0,\"fTextFont\":0,\"fX\":0,\"fY\":0,\"fLineColor\":1,\"fLineStyle\":1,\"fLineWidth\":2,\"fLimitFactorSize\":3,\"fOriginSize\":0.0467500016093254}],\"opt\":[null]}}}]},{\"_typename\":\"TPadWebSnapshot\",\"fUniqueID\":0,\"fBits\":0,\"fObjectID\":\"\",\"fOption\":\"\",\"fKind\":3,\"fSnapshot\":{\"_typename\":\"TPad\",\"fUniqueID\":0,\"fBits\":9,\"fLineColor\":1,\"fLineStyle\":1,\"fLineWidth\":1,\"fFillColor\":0,\"fFillStyle\":1001,\"fLeftMargin\":0.1,\"fRightMargin\":0.1,\"fBottomMargin\":0.15,\"fTopMargin\":0.1,\"fXfile\":2,\"fYfile\":2,\"fAfile\":1,\"fXstat\":0.99,\"fYstat\":0.99,\"fAstat\":2,\"fFrameFillColor\":0,\"fFrameLineColor\":1,\"fFrameFillStyle\":1001,\"fFrameLineStyle\":1,\"fFrameLineWidth\":1,\"fFrameBorderSize\":1,\"fFrameBorderMode\":0,\"fX1\":0,\"fY1\":0,\"fX2\":1,\"fY2\":1,\"fXtoAbsPixelk\":809.293333066006,\"fXtoPixelk\":0,\"fXtoPixel\":374.74666720132,\"fYtoAbsPixelk\":566.280000127852,\"fYtoPixelk\":560.560000255704,\"fYtoPixel\":-560.560000255704,\"fUtoAbsPixelk\":809.293333066006,\"fUtoPixelk\":0,\"fUtoPixel\":374.74666720132,\"fVtoAbsPixelk\":566.280000127852,\"fVtoPixelk\":560.560000255704,\"fVtoPixel\":-560.560000255704,\"fAbsPixeltoXk\":-2.15957446429067,\"fPixeltoXk\":0,\"fPixeltoX\":0.00266846936216455,\"fAbsPixeltoYk\":1.01020408139992,\"fPixeltoYk\":0,\"fPixeltoY\":-0.00178393035454517,\"fXlowNDC\":0.676666666443149,\"fYlowNDC\":0.00999999977648258,\"fXUpNDC\":0.990000000223517,\"fYUpNDC\":0.990000000223517,\"fWNDC\":0.313333333780368,\"fHNDC\":0.980000000447035,\"fAbsXlowNDC\":0.676666666443149,\"fAbsYlowNDC\":0.00999999977648258,\"fAbsWNDC\":0.313333333780368,\"fAbsHNDC\":0.980000000447035,\"fUxmin\":0,\"fUymin\":0,\"fUxmax\":1,\"fUymax\":1,\"fTheta\":30,\"fPhi\":30,\"fAspectRatio\":0,\"fNumber\":3,\"fTickx\":0,\"fTicky\":0,\"fLogx\":0,\"fLogy\":0,\"fLogz\":0,\"fPadPaint\":0,\"fCrosshair\":0,\"fCrosshairPos\":0,\"fBorderSize\":2,\"fBorderMode\":0,\"fModified\":false,\"fGridx\":false,\"fGridy\":false,\"fAbsCoord\":false,\"fEditable\":true,\"fFixedAspectRatio\":false,\"fPrimitives\":{\"_typename\":\"TList\",\"name\":\"TList\",\"arr\":[],\"opt\":[]},\"fExecs\":{\"_typename\":\"TList\",\"name\":\"TList\",\"arr\":[],\"opt\":[]},\"fName\":\"canvas_3\",\"fTitle\":\"canvas_3\",\"fNumPaletteColor\":0,\"fNextPaletteColor\":0},\"fActive\":false,\"fReadOnly\":true,\"fWithoutPrimitives\":false,\"fHasExecs\":true,\"fPrimitives\":[]}],\"fScripts\":\"\",\"fHighlightConnect\":false,\"fFixedSize\":false});\n",
       "   Core.settings.HandleKeys = false;\n",
       "   Core.draw(\"root_plot_1759358933534\", obj, \"\");\n",
       "}\n",
       "\n",
       "function script_load_root_plot_1759358933534(src, on_error) {\n",
       "    let script = document.createElement('script');\n",
       "    script.src = src;\n",
       "    script.onload = function() { display_root_plot_1759358933534(JSROOT); };\n",
       "    script.onerror = function() { script.remove(); on_error(); };\n",
       "    document.head.appendChild(script);\n",
       "}\n",
       "\n",
       "if (typeof requirejs !== 'undefined') {\n",
       "\n",
       "    // We are in jupyter notebooks, use require.js which should be configured already\n",
       "    requirejs.config({\n",
       "       paths: { 'JSRootCore' : [ 'build/jsroot', 'https://root.cern/js/7.9.0/build/jsroot', 'https://jsroot.gsi.de/7.9.0/build/jsroot' ] }\n",
       "    })(['JSRootCore'],  function(Core) {\n",
       "       display_root_plot_1759358933534(Core);\n",
       "    });\n",
       "\n",
       "} else if (typeof JSROOT !== 'undefined') {\n",
       "\n",
       "   // JSROOT already loaded, just use it\n",
       "   display_root_plot_1759358933534(JSROOT);\n",
       "\n",
       "} else {\n",
       "\n",
       "    // We are in jupyterlab without require.js, directly loading jsroot\n",
       "    // Jupyterlab might be installed in a different base_url so we need to know it.\n",
       "    try {\n",
       "        var base_url = JSON.parse(document.getElementById('jupyter-config-data').innerHTML).baseUrl;\n",
       "    } catch(_) {\n",
       "        var base_url = '/';\n",
       "    }\n",
       "\n",
       "    // Try loading a local version of requirejs and fallback to cdn if not possible.\n",
       "    script_load_root_plot_1759358933534(base_url + 'static/build/jsroot.js', function(){\n",
       "        console.error('Fail to load JSROOT locally, please check your jupyter_notebook_config.py file');\n",
       "        script_load_root_plot_1759358933534('https://root.cern/js/7.9.0/build/jsroot.js', function(){\n",
       "            document.getElementById(\"root_plot_1759358933534\").innerHTML = \"Failed to load JSROOT\";\n",
       "        });\n",
       "    });\n",
       "}\n",
       "\n",
       "</script>\n"
      ],
      "text/plain": [
       "<IPython.core.display.HTML object>"
      ]
     },
     "metadata": {},
     "output_type": "display_data"
    }
   ],
   "source": [
    "import math\n",
    "# calculate events ratio from vertex histograms\n",
    "event_ratio = {}\n",
    "ROOT.gStyle.SetOptStat(100)\n",
    "canvas = ROOT.TCanvas('canvas', '', 1200, 600)\n",
    "canvas.Divide(3, 1)\n",
    "canvas.Draw()\n",
    "\n",
    "line = ROOT.TLine()\n",
    "line.SetLineColor(ROOT.kRed)\n",
    "line.SetLineStyle(2)\n",
    "\n",
    "text =ROOT.TLatex()\n",
    "text.SetTextSize(0.03)\n",
    "text.SetTextColor(ROOT.kRed)\n",
    "\n",
    "for i, trigger in enumerate(triggers):\n",
    "    file = ROOT.TFile(f'/home/prozorov/dev/star/jets_pp_2012/output/merged_data_{trigger}_R{jetR}.root')\n",
    "    vertex_hist = file.Get('QA_histograms/vz')\n",
    "    vertex_hist.RebinX()\n",
    "    vertex_hist.SetName(f'hVertexZ_{trigger}')\n",
    "    vertex_hist.GetXaxis().SetTitle('Z_{vertex} [cm]')\n",
    "    vertex_hist.SetDirectory(0)\n",
    "    vertex_hist.SetTitle(trigger)\n",
    "    vertex_hist.GetXaxis().SetRangeUser(-60, 60)\n",
    "    vertex_hist.GetYaxis().SetRangeUser(0 ,vertex_hist.GetMaximum() * 1.05)\n",
    "\n",
    "    canvas.cd(i + 1)\n",
    "    pad=ROOT.gPad\n",
    "    ROOT.gPad.SetLeftMargin(0.05)\n",
    "    ROOT.gPad.SetRightMargin(0.01)\n",
    "    vertex_hist.Draw('hist')\n",
    "    gaus_fit = ROOT.TF1(f\"gaus_{trigger}\", \"gaus\", -30, 30)\n",
    "    gaus_fit.SetLineColor(ROOT.kPink)\n",
    "    vertex_hist.Fit(gaus_fit, \"REMQ\")\n",
    "    gaus_fit.Draw('same')\n",
    "\n",
    "    binwidth = vertex_hist.GetBinWidth(2)\n",
    "    integral = vertex_hist.Integral(vertex_hist.FindBin(-30), vertex_hist.FindBin(30)) * binwidth\n",
    "    total_integral = math.sqrt(2 * math.pi) * gaus_fit.GetParameter(0) * gaus_fit.GetParameter(2)\n",
    "    ratio = integral / total_integral\n",
    "    event_ratio[trigger] = ratio\n",
    "\n",
    "    line.DrawLine(-30, 0, -30, 1.0 * vertex_hist.GetMaximum())\n",
    "    line.DrawLine(30, 0, 30, 1.0 * vertex_hist.GetMaximum())\n",
    "    text.DrawLatexNDC(0.45, 0.7, f'{100*ratio:.1f} % total')\n",
    "\n",
    "\n",
    "canvas.SaveAs('plots/vertex_ratio.pdf')"
   ]
  },
  {
   "cell_type": "code",
   "execution_count": 19,
   "metadata": {},
   "outputs": [
    {
     "name": "stdout",
     "output_type": "stream",
     "text": [
      "Processing trigger JP2\n",
      "Processing trigger HT2\n"
     ]
    }
   ],
   "source": [
    "import ROOT\n",
    "import uproot\n",
    "import awkward as ak\n",
    "import numpy as np\n",
    "path='/home/prozorov/dev/star/jets_pp_2012/output/'\n",
    "triggers = ['JP2', 'HT2']\n",
    "tree_name = 'ResultTree'  # Update this to your tree name\n",
    "branch_names = ['runid1', 'pt', 'trigger_match_JP2', 'trigger_match_HT2']\n",
    "pt_vs_run_raw = {}\n",
    "pt_vs_run_trigger = {}\n",
    "# read run_map from file\n",
    "run_map = {}\n",
    "run_map_inverse = {}\n",
    "\n",
    "with open('/home/prozorov/dev/star/jets_pp_2012/macros/ana/run_map.txt', 'r') as f:\n",
    "    for line in f:\n",
    "        run, i = line.strip().split()\n",
    "        run_map[int(run)] = int(i)\n",
    "        run_map_inverse[int(i)] = int(run)\n",
    "\n",
    "import json\n",
    "with open(\"my_parameters.json\") as f:\n",
    "    pt_reco_bins = json.load(f)[\"pt_reco_bins\"]\n",
    "\n",
    "pt_reco_bins=np.array(pt_reco_bins)\n",
    "\n",
    "for trigger in triggers:\n",
    "    print(f'Processing trigger {trigger}')\n",
    "    file_name = path + f'merged_data_{trigger}_R{jetR}.root'\n",
    "    my_file=ROOT.TFile(file_name)\n",
    "    analyzed_event_hist= my_file.Get('hEventsRun')\n",
    "    nbins=analyzed_event_hist.GetNbinsX()\n",
    "    root_file=uproot.open(file_name)\n",
    "    tree = root_file[tree_name]\n",
    "    tree_arrays = tree.arrays(branch_names)\n",
    "\n",
    "    # convert runid1 to run_mapped\n",
    "    tree_arrays['run_mapped'] = [run_map[runid] for runid in tree_arrays['runid1']]\n",
    "\n",
    "    if trigger in ['JP2', 'HT2']:\n",
    "        df = ak.to_rdataframe({\"pt\": tree_arrays['pt'], \"run_mapped\": tree_arrays['run_mapped'], \"trigger_match\": tree_arrays[f'trigger_match_{trigger}']})\n",
    "    else:\n",
    "        df = ak.to_rdataframe({\"pt\": tree_arrays['pt'], \"run_mapped\": tree_arrays['run_mapped']})\n",
    "\n",
    "    \n",
    "    title = '; run ;p_{t}, GeV/c; counts'\n",
    "\n",
    "    pt_vs_run = df.Histo2D((f'{trigger}_pt_vs_run', f'{trigger} pt'+title,nbins,0,nbins, len(pt_reco_bins)-1, pt_reco_bins), \"run_mapped\",\"pt\")\n",
    "\n",
    "\n",
    "        # set labels equal to runid from run_map\n",
    "    # for i in range(1, pt_vs_run.GetNbinsX()+1):\n",
    "    #     pt_vs_run.GetXaxis().SetBinLabel(i, str(run_map_inverse[i-1]))\n",
    "\n",
    "    pt_vs_run_raw[trigger] = pt_vs_run\n",
    "\n",
    "    if trigger in ['JP2', 'HT2']:\n",
    "        hist_2d_trigger= df.Define(\"triggered_pt\", \"pt[trigger_match]\").Histo2D((f'{trigger}_pt_vs_run_trigger', f'{trigger} pt triggered'+title,nbins,0,nbins, len(pt_reco_bins)-1, pt_reco_bins), \"run_mapped\",\"triggered_pt\")\n",
    "\n",
    "        pt_vs_run_trigger[trigger] = hist_2d_trigger\n",
    "\n",
    "\n",
    "outfile_2d = ROOT.TFile(workdir+\"pt_vs_run_binning.root\", \"RECREATE\")\n",
    "for trigger in triggers:\n",
    "    pt_vs_run_raw[trigger].Write()\n",
    "    if trigger in ['JP2', 'HT2']:\n",
    "        pt_vs_run_trigger[trigger].Write()\n",
    "outfile_2d.Close()"
   ]
  },
  {
   "cell_type": "markdown",
   "metadata": {},
   "source": [
    "### Read raw pt distributions"
   ]
  },
  {
   "cell_type": "code",
   "execution_count": 21,
   "metadata": {},
   "outputs": [],
   "source": [
    "pt_vs_run_raw = {}\n",
    "pt_vs_run_trigger = {}\n",
    "\n",
    "infile_2d = ROOT.TFile(workdir+\"pt_vs_run_binning.root\", \"READ\")\n",
    "for trigger in triggers:\n",
    "    pt_vs_run_raw[trigger] = infile_2d.Get(f'{trigger}_pt_vs_run')\n",
    "    pt_vs_run_raw[trigger].SetDirectory(0)\n",
    "    if trigger in ['JP2', 'HT2']:\n",
    "        pt_vs_run_trigger[trigger] = infile_2d.Get(f'{trigger}_pt_vs_run_trigger')\n",
    "        pt_vs_run_trigger[trigger].SetDirectory(0)\n",
    "\n",
    "# pt_vs_run_trigger['MB']= pt_vs_run_raw['MB']"
   ]
  },
  {
   "cell_type": "markdown",
   "metadata": {},
   "source": [
    "### Get analyzed events histograms"
   ]
  },
  {
   "cell_type": "code",
   "execution_count": 24,
   "metadata": {},
   "outputs": [],
   "source": [
    "analyzed_events = {}\n",
    "for trigger in triggers:\n",
    "    file_name = path + f'merged_data_{trigger}_R{jetR}.root'\n",
    "\n",
    "    my_file=ROOT.TFile(file_name)\n",
    "    analyzed_events[trigger]= my_file.Get('hEventsRun')\n",
    "    analyzed_events[trigger].SetDirectory(0)"
   ]
  },
  {
   "cell_type": "markdown",
   "metadata": {},
   "source": [
    "### Read all prescales, livetimes, maxnevents, luminosities"
   ]
  },
  {
   "cell_type": "code",
   "execution_count": null,
   "metadata": {},
   "outputs": [
    {
     "ename": "",
     "evalue": "",
     "output_type": "error",
     "traceback": [
      "\u001b[1;31mThe Kernel crashed while executing code in the current cell or a previous cell. \n",
      "\u001b[1;31mPlease review the code in the cell(s) to identify a possible cause of the failure. \n",
      "\u001b[1;31mClick <a href='https://aka.ms/vscodeJupyterKernelCrash'>here</a> for more info. \n",
      "\u001b[1;31mView Jupyter <a href='command:jupyter.viewOutput'>log</a> for further details."
     ]
    }
   ],
   "source": [
    "# get 1d histograms - presacles, livetime, maxnevents\n",
    "lumi=ROOT.TFile(workdir+\"lumi.root\")\n",
    "prescale={}\n",
    "livetime={}\n",
    "maxnevent={}\n",
    "luminosity={}\n",
    "for trigger in triggers:\n",
    "    prescale[trigger]= lumi.Get(f'prescale_{trigger}')\n",
    "    livetime[trigger]= lumi.Get(f'livetime_{trigger}')\n",
    "    maxnevent[trigger]= lumi.Get(f'nevents_{trigger}')\n",
    "    luminosity[trigger]= lumi.Get(f'luminosity_{trigger}')\n"
   ]
  },
  {
   "cell_type": "markdown",
   "metadata": {},
   "source": [
    "### Get Trigger efficiency from embedding"
   ]
  },
  {
   "cell_type": "code",
   "execution_count": null,
   "metadata": {},
   "outputs": [],
   "source": [
    "trigger_efficiency={}\n",
    "trigger_mc_efficiency={}\n",
    "\n",
    "# load trigger efficiency from embedding\n",
    "for trigger in ['JP2', 'HT2']:\n",
    "    input_file = ROOT.TFile(workdir+f\"/plots/embedding_root/{trigger}_over_reconstructed_reco.root\", \"READ\")\n",
    "    trigger_efficiency[trigger]=input_file.Get(f\"h_ratio\").Clone(f'h_ratio_{trigger}_reco')\n",
    "    trigger_efficiency[trigger].SetDirectory(0)\n",
    "    \n",
    "    input_file_mc = ROOT.TFile(workdir+f\"/plots/embedding_root/{trigger}_over_reconstructed_mc.root\", \"READ\")\n",
    "    trigger_mc_efficiency[trigger]=input_file_mc.Get(f\"h_ratio\").Clone(f'h_ratio_{trigger}_mc')\n",
    "    trigger_mc_efficiency[trigger].SetDirectory(0)\n",
    "\n",
    "input_file=ROOT.TFile(workdir+f\"/plots/embedding_root/reconstructed_over_all_reco.root\", \"READ\")\n",
    "reconstruction_efficiency=input_file.Get(f\"h_ratio\").Clone(f'reconstruction_efficiency')\n",
    "reconstruction_efficiency.SetDirectory(0)\n",
    "\n",
    "input_file_mc=ROOT.TFile(workdir+f\"/plots/embedding_root/reconstructed_over_all_mc.root\", \"READ\")\n",
    "reconstruction_mc_efficiency=input_file_mc.Get(f\"h_ratio\").Clone(f'reconstruction_mc_efficiency')\n",
    "reconstruction_mc_efficiency.SetDirectory(0)\n",
    "    \n",
    "\n",
    "print(\"Trigger efficiency loaded\")"
   ]
  },
  {
   "cell_type": "code",
   "execution_count": null,
   "metadata": {},
   "outputs": [],
   "source": [
    "import math\n",
    "def divide(num, denom):\n",
    "    hnew = num.Clone()  # Clone the first histogram\n",
    "    for j in range(1, hnew.GetNbinsY() + 1):\n",
    "        for i in range(1, hnew.GetNbinsX() + 1):\n",
    "            bin_content = denom.GetBinContent(i)\n",
    "            if bin_content == 0:\n",
    "                scale = 0\n",
    "            else:\n",
    "                scale = 1 / bin_content\n",
    "            hnew.SetBinContent(i, j, hnew.GetBinContent(i, j) * scale)\n",
    "            hnew.SetBinError(i, j, hnew.GetBinError(i, j) * scale)\n",
    "    hnew.SetDirectory(0)  # Detach from any file\n",
    "    return hnew\n",
    "\n",
    "def multiply(num, denom):\n",
    "    hnew = num.Clone()  # Clone the first histogram\n",
    "    for j in range(1, hnew.GetNbinsY() + 1):\n",
    "        for i in range(1, hnew.GetNbinsX() + 1):\n",
    "            scale = denom.GetBinContent(i)\n",
    "            hnew.SetBinContent(i, j, hnew.GetBinContent(i, j) * scale)\n",
    "            hnew.SetBinError(i, j, hnew.GetBinError(i, j) * scale)\n",
    "    hnew.SetDirectory(0)  # Detach from any file\n",
    "    return hnew\n",
    "\n",
    "# make 1d histogram out of this histograms\n",
    "def make_run_projection(hist):\n",
    "    counter_runs=0\n",
    "    name = hist.GetName()\n",
    "    temp = hist.ProjectionY('', 1, 1)\n",
    "    output=temp.Clone(f'{name}')\n",
    "    for i in range(1, hist.GetNbinsX() + 1):\n",
    "         projection = hist.ProjectionY(f'{name}_{i}', i, i)\n",
    "         runid = int(hist.GetXaxis().GetBinLabel(i))\n",
    "         # check if run is in bad runs\n",
    "         if runid in bad_runs_JP2:\n",
    "             continue\n",
    "         if projection.Integral() == 0:\n",
    "            continue\n",
    "         counter_runs+=1\n",
    "         output.Add(projection)\n",
    "    output.Scale(1/counter_runs)\n",
    "    output.SetDirectory(0)  # Detach from any file\n",
    "    \n",
    "    return output\n",
    "\n",
    "# go by bin by bin and multiply by trigger efficiency interpolated\n",
    "def divide_by_efficiency(data, eff):\n",
    "    for i in range(1, data.GetNbinsX()+1):\n",
    "        bin_content = data.GetBinContent(i)\n",
    "        bin_error = data.GetBinError(i)\n",
    "        bin_center = data.GetBinCenter(i)\n",
    "        # get trigger efficiency\n",
    "        eff_value = eff.GetBinContent(eff.GetXaxis().FindBin(bin_center))\n",
    "        eff_error = eff.GetBinError(eff.GetXaxis().FindBin(bin_center))\n",
    "        # check if trigger efficiency is 0\n",
    "        if eff_value == 0:\n",
    "            eff_value = 1\n",
    "        # set new value\n",
    "        data.SetBinContent(i, bin_content /eff_value)\n",
    "        # calculate uncertainty propagation\n",
    "        # check if not 0\n",
    "        if bin_content == 0:\n",
    "            continue\n",
    "        new_bin_error = bin_content / eff_value * math.sqrt((bin_error/bin_content)**2 + (eff_error/eff_value)**2)\n",
    "        data.SetBinError(i, new_bin_error)\n",
    "    return data\n",
    "\n",
    "def multiply_by_efficiency (data,eff):\n",
    "    for i in range(1, data.GetNbinsX()+1):\n",
    "        bin_content = data.GetBinContent(i)\n",
    "        bin_error = data.GetBinError(i)\n",
    "        bin_center = data.GetBinCenter(i)\n",
    "        # get trigger efficiency\n",
    "        eff_value = eff.GetBinContent(eff.GetXaxis().FindBin(bin_center))\n",
    "        eff_error = eff.GetBinError(eff.GetXaxis().FindBin(bin_center))\n",
    "        # check if trigger efficiency is 0\n",
    "        if eff_value == 0:\n",
    "            eff_value = 1\n",
    "        # set new value\n",
    "        data.SetBinContent(i, bin_content *eff_value)\n",
    "        # calculate uncertainty propagation\n",
    "        # check if not 0\n",
    "        if bin_content == 0:\n",
    "            continue\n",
    "        new_bin_error = bin_content * eff_value * math.sqrt((bin_error/bin_content)**2 + (eff_error/eff_value)**2)\n",
    "        data.SetBinError(i, new_bin_error)\n",
    "    return data\n",
    "\n",
    "def divide_by_binwidth(data):\n",
    "    for i in range(1, data.GetNbinsX()+1):\n",
    "        bin_content = data.GetBinContent(i)\n",
    "        bin_error = data.GetBinError(i)\n",
    "        bin_width = data.GetBinWidth(i)\n",
    "        # set new value\n",
    "        data.SetBinContent(i, bin_content /bin_width)\n",
    "        data.SetBinError(i, bin_error /bin_width)\n",
    "    return data\n"
   ]
  },
  {
   "cell_type": "markdown",
   "metadata": {},
   "source": [
    "## Unfolding"
   ]
  },
  {
   "cell_type": "code",
   "execution_count": null,
   "metadata": {},
   "outputs": [],
   "source": [
    "# responseFile=ROOT.TFile(f\"/home/prozorov/dev/star/jets_pp_2012/macros/unfolding/response_{trigger}.root\")\n",
    "responses={}\n",
    "\n",
    "for trigger in triggers:\n",
    "        responseFile=ROOT.TFile(f\"/home/prozorov/dev/star/jets_pp_2012/macros/unfolding/root/response{trigger}R{jetR}.root\")\n",
    "        responses[trigger] = responseFile.Get(\"my_response\")\n",
    "        responses[trigger].SetName(f\"response_{trigger}\")\n",
    "\n",
    "                                              \n",
    "rooUnfoldResponse = responses['MB']                                      "
   ]
  },
  {
   "cell_type": "code",
   "execution_count": null,
   "metadata": {},
   "outputs": [],
   "source": [
    "from ROOT import RooUnfoldBayes\n",
    "temp1d = pt_vs_run_trigger['JP2'].ProjectionY()\n",
    "# temp1d=responseFile.Get(\"MeasuredTest\")\n",
    "temp1d=divide_by_efficiency (temp1d, trigger_efficiency['JP2'])\n",
    "temp1d.SetLineColor(ROOT.kBlue)\n",
    "unfolding=ROOT.RooUnfoldBayes(rooUnfoldResponse, temp1d, 5)\n",
    "unfolded = unfolding.Hunfold()\n",
    "unfolded.SetLineColor(ROOT.kRed)\n",
    "# divide by bin width\n",
    "unfolded=divide_by_binwidth(unfolded)\n",
    "temp1d=divide_by_binwidth(temp1d)"
   ]
  },
  {
   "cell_type": "code",
   "execution_count": null,
   "metadata": {},
   "outputs": [],
   "source": [
    "can=ROOT.TCanvas('can', '', 1000, 600)\n",
    "can.Draw()\n",
    "can.SetLogy()\n",
    "temp1d.SetTitle('JP2 trigger')\n",
    "temp1d.GetYaxis().SetTitle('dN/dp_{t}')\n",
    "temp1d.GetYaxis().SetTitleOffset(0.8)\n",
    "temp1d.Draw('hist')\n",
    "unfolded.Draw('hist same')\n",
    "leg=ROOT.TLegend(0.6, 0.7, 0.9, 0.9)\n",
    "leg.AddEntry(temp1d, 'raw data', 'l')\n",
    "leg.AddEntry(unfolded, 'unfolded', 'l')\n",
    "leg.Draw()\n",
    "can.SaveAs('plots/unfolded.pdf')"
   ]
  },
  {
   "cell_type": "code",
   "execution_count": null,
   "metadata": {},
   "outputs": [],
   "source": [
    "# print x-axis edges vector \n",
    "xaxis = temp1d.GetXaxis()\n",
    "x_edges = []\n",
    "for i in range(1, temp1d.GetNbinsX() + 2):\n",
    "    x_edges.append(xaxis.GetBinLowEdge(i))\n",
    "print(x_edges)\n"
   ]
  },
  {
   "cell_type": "code",
   "execution_count": null,
   "metadata": {},
   "outputs": [],
   "source": [
    "# load Dmitry's histograms\n",
    "file=ROOT.TFile(workdir+'./jet_cross_section_dmitriy.root')\n",
    "base_hist=file.Get('crossSection_systematic')\n",
    "# base_hist=file.Get('crossSection_statistic')\n",
    "base_hist.SetDirectory(0)\n",
    "def divide_different_bins (num, denom):\n",
    "    hnew = num.Clone()  # Clone the first histogram\n",
    "    for i in range(1, hnew.GetNbinsX() + 1):\n",
    "        scale = denom.Interpolate(hnew.GetXaxis().GetBinCenter(i))\n",
    "        # scale =denom.GetBinContent( denom.GetXaxis().FindBin(hnew.GetXaxis().GetBinCenter(i)))\n",
    "        if scale == 0:\n",
    "            scale = 1\n",
    "        hnew.SetBinContent(i, hnew.GetBinContent(i) /scale)\n",
    "        hnew.SetBinError(i,  hnew.GetBinError(i) / scale)\n",
    "    hnew.SetDirectory(0)  # Detach from any file\n",
    "    return hnew"
   ]
  },
  {
   "cell_type": "markdown",
   "metadata": {},
   "source": [
    "### Combine all histograms on per-run basis"
   ]
  },
  {
   "cell_type": "code",
   "execution_count": null,
   "metadata": {},
   "outputs": [],
   "source": [
    "my_cross_section = {}\n",
    "my_cross_section_no_unfolding = {}\n",
    "\n",
    "for trigger in triggers:\n",
    "    print(f'Calculating cross section for {trigger}')\n",
    "    \n",
    "    temp = pt_vs_run_trigger[trigger]\n",
    "    # =============================================\n",
    "    ## normalize by analyzed events\n",
    "    temp = divide(temp, analyzed_events[trigger]) \n",
    "\n",
    "    #  by maxnevent\n",
    "    temp = multiply(temp, maxnevent[trigger]) \n",
    "\n",
    "    # by luminosity\n",
    "    temp = divide(temp, luminosity[trigger]) \n",
    "\n",
    "    # scale by ratio of passed events\n",
    "    temp.Scale(1./event_ratio[trigger])\n",
    "\n",
    "    # make run projection\n",
    "    temp = make_run_projection(temp)\n",
    "   # scale by acceptance pseudo-rapidity\n",
    "    temp.Scale(1./(2*0.4))\n",
    "\n",
    "    # trigger efficiency\n",
    "    if trigger in ['JP2', 'HT2']:\n",
    "        temp = divide_by_efficiency(temp, trigger_efficiency[trigger])\n",
    "\n",
    "    # temp = divide_by_efficiency(temp, reconstruction_efficiency)\n",
    "\n",
    "\n",
    "    # make unfolding\n",
    "    temp_nounfolding=temp.Clone(f'{trigger}_cross_section_no_unfolding')\n",
    "    temp=temp_nounfolding.Clone(f'{trigger}_cross_section')\n",
    "    # # # unfolding = ROOT.RooUnfoldBayes(responses[trigger], temp, 5 )\n",
    "    # unfolding = ROOT.RooUnfoldBayes(rooUnfoldResponse, temp, 5 )\n",
    "    # temp = unfolding.Hunfold()\n",
    "    temp = divide_by_efficiency(temp, reconstruction_mc_efficiency)\n",
    "\n",
    "    # normalize by pt bin width\n",
    "    temp = divide_by_binwidth(temp)\n",
    "    my_cross_section[trigger] = temp\n",
    "\n",
    "    temp_nounfolding = divide_by_binwidth(temp_nounfolding)\n",
    "    temp_nounfolding = multiply_by_efficiency(temp_nounfolding, reconstruction_mc_efficiency)\n",
    "    my_cross_section_no_unfolding[trigger] = temp_nounfolding\n",
    "\n"
   ]
  },
  {
   "cell_type": "code",
   "execution_count": null,
   "metadata": {},
   "outputs": [],
   "source": [
    "ROOT.gStyle.SetOptStat(0)\n",
    "canvas = ROOT.TCanvas('canvasCS', 'canvasCS', 800, 800)\n",
    "canvas.Divide(1, 2)\n",
    "# draw all cross sections\n",
    "colors={\n",
    "    'JP2': ROOT.kAzure-1,\n",
    "    'HT2': ROOT.kRed+1,\n",
    "    'MB': ROOT.kOrange-1,\n",
    "    'Dmitriy': ROOT.kViolet,\n",
    "}\n",
    "\n",
    "# triggers = ['JP2']\n",
    "triggers = ['HT2', 'JP2', 'MB']\n",
    "\n",
    "# Upper pad for histograms\n",
    "pad1 = canvas.cd(1)\n",
    "pad1.SetPad(0.0, 0.5, 1.0, 1.0)\n",
    "pad1.SetTopMargin(0.1)\n",
    "pad1.SetBottomMargin(0.0)\n",
    "pad1.SetLogy()\n",
    "\n",
    "canvas.Draw()\n",
    "\n",
    "canvas.cd(1)\n",
    "base_hist.GetYaxis().SetRangeUser(1e0+0.2, 1e7)\n",
    "base_hist.SetMarkerColor(colors['Dmitriy'])\n",
    "base_hist.SetLineColor(colors['Dmitriy'])\n",
    "base_hist.SetMarkerStyle(29)\n",
    "base_hist.SetMarkerSize(2)\n",
    "base_hist.Draw('E1')\n",
    "\n",
    "for i, trigger in enumerate(triggers): \n",
    "    my_cross_section[trigger].SetLineColor(colors[trigger])\n",
    "    my_cross_section[trigger].SetMarkerColor( colors[trigger])\n",
    "    my_cross_section[trigger].SetMarkerStyle(20+i)\n",
    "    my_cross_section[trigger].Draw('E1 same')\n",
    "\n",
    "    my_cross_section_no_unfolding[trigger].SetLineColor(colors[trigger]+2)\n",
    "    my_cross_section_no_unfolding[trigger].SetMarkerColor( colors[trigger]+2)\n",
    "    my_cross_section_no_unfolding[trigger].SetMarkerStyle(20+i)\n",
    "    # my_cross_section_no_unfolding[trigger].Draw('E0 same')\n",
    "\n",
    "legend = ROOT.TLegend(0.7, 0.5, 0.88, 0.88)\n",
    "for trigger in triggers:\n",
    "    legend.AddEntry(my_cross_section[trigger], trigger, \"lep\")\n",
    "    # legend.AddEntry(my_cross_section_no_unfolding[trigger], f'{trigger} no unfolding', \"lep\")\n",
    "legend.AddEntry(base_hist, 'Dmitriy', \"lep\")\n",
    "legend.Draw()\n",
    "#========================\n",
    "# Lower pad for ratio\n",
    "pad2 = canvas.cd(2)\n",
    "pad2.SetPad(0.0, 0.0, 1.0, 0.5)\n",
    "pad2.SetTopMargin(0.0)\n",
    "pad2.SetBottomMargin(0.3)\n",
    "\n",
    "canvas.cd(2)\n",
    "\n",
    "ratio_hist={}\n",
    "ratio_hist_no_unfolding={}\n",
    "\n",
    "for trigger in triggers:\n",
    "    ratio_hist[trigger] = my_cross_section[trigger].Clone(f\"ratio_{trigger}\")\n",
    "\n",
    "    ratio_hist[trigger]=divide_different_bins(ratio_hist[trigger], base_hist)\n",
    "    ratio_hist[trigger].GetYaxis().SetRangeUser(0, 3.95)\n",
    "    ratio_hist[trigger].GetXaxis().SetRangeUser(base_hist.GetXaxis().GetXmin()+0.1, base_hist.GetXaxis().GetXmax())\n",
    "    ratio_hist[trigger].GetYaxis().SetTitle('Ratio to Dmitry')\n",
    "    ratio_hist[trigger].GetXaxis().SetTitle('p_{t} [GeV/c]')\n",
    "    ratio_hist[trigger].SetDirectory(0) \n",
    "    ratio_hist[trigger].Draw('E1 same')\n",
    "    ratio_hist_no_unfolding[trigger] = my_cross_section_no_unfolding[trigger].Clone(f\"ratio_no_unfolding_{trigger}\")\n",
    "    ratio_hist_no_unfolding[trigger]=divide_different_bins(ratio_hist_no_unfolding[trigger], base_hist)\n",
    "    ratio_hist_no_unfolding[trigger].GetYaxis().SetRangeUser(0, 3.95)\n",
    "    ratio_hist_no_unfolding[trigger].GetXaxis().SetRangeUser(base_hist.GetXaxis().GetXmin()+0.1, base_hist.GetXaxis().GetXmax())\n",
    "    # ratio_hist_no_unfolding[trigger].Draw('E0 same')\n",
    "     # Detach from any file\n",
    "# draw line at 1\n",
    "line = ROOT.TLine()\n",
    "line.SetLineColor(colors['Dmitriy'])\n",
    "line.DrawLine(base_hist.GetXaxis().GetXmin(), 1, base_hist.GetXaxis().GetXmax(), 1)\n",
    "line.Draw()\n"
   ]
  },
  {
   "cell_type": "code",
   "execution_count": null,
   "metadata": {},
   "outputs": [],
   "source": [
    "canvas.SaveAs('plots/cross_section_nounfolding.pdf')"
   ]
  },
  {
   "cell_type": "markdown",
   "metadata": {},
   "source": [
    "\n",
    "### **QCD fit function**:\n",
    "\n",
    "$$ \\frac{d\\sigma}{dp_T} = A \\cdot \\left(1 + \\frac{p_T}{p_0} \\right)^{-n} $$\n"
   ]
  },
  {
   "cell_type": "markdown",
   "metadata": {},
   "source": []
  }
 ],
 "metadata": {
  "kernelspec": {
   "display_name": "Python 3",
   "language": "python",
   "name": "python3"
  },
  "language_info": {
   "codemirror_mode": {
    "name": "ipython",
    "version": 3
   },
   "file_extension": ".py",
   "mimetype": "text/x-python",
   "name": "python",
   "nbconvert_exporter": "python",
   "pygments_lexer": "ipython3",
   "version": "3.10.12"
  }
 },
 "nbformat": 4,
 "nbformat_minor": 2
}
